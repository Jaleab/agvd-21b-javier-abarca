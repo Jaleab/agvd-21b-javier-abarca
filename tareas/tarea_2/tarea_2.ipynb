{
  "nbformat": 4,
  "nbformat_minor": 0,
  "metadata": {
    "colab": {
      "name": "tarea_2.ipynb",
      "provenance": []
    },
    "kernelspec": {
      "name": "python3",
      "display_name": "Python 3"
    },
    "language_info": {
      "name": "python"
    }
  },
  "cells": [
    {
      "cell_type": "markdown",
      "metadata": {
        "id": "foDposudeDJx"
      },
      "source": [
        "### Tarea 2 \n",
        "### Autor: Javier Abarca Jimenez \n",
        "### Carné: B70018\n",
        "### Dataset: [Rain in Australia](https://www.kaggle.com/jsphyg/weather-dataset-rattle-package) "
      ]
    },
    {
      "cell_type": "markdown",
      "metadata": {
        "id": "AZ9aDtYvh1y5"
      },
      "source": [
        "## 1. Problema\n",
        "Con el conjunto de datos *Western Australia Weather 1944-2016* se van a crear dos modelos para poder predecir si al día siguiente va a llover. Este problema es de clasificación binaria."
      ]
    },
    {
      "cell_type": "code",
      "metadata": {
        "id": "jRBN_G8PkPZK"
      },
      "source": [
        "import pandas as pd\n",
        "from numpy import mean\n",
        "from numpy import std\n",
        "from sklearn.datasets import make_classification\n",
        "from sklearn.model_selection import RepeatedStratifiedKFold\n",
        "from sklearn.model_selection import GridSearchCV\n",
        "from sklearn.ensemble import RandomForestClassifier\n",
        "from sklearn import preprocessing\n",
        "from sklearn.preprocessing import StandardScaler\n",
        "from sklearn.model_selection import train_test_split\n",
        "from sklearn.decomposition import PCA\n",
        "from matplotlib import pyplot\n",
        "from sklearn.svm import SVC\n",
        "from sklearn.model_selection import KFold\n"
      ],
      "execution_count": 134,
      "outputs": []
    },
    {
      "cell_type": "code",
      "metadata": {
        "id": "ZW9oFxo4kXbR"
      },
      "source": [
        "# Load dataset\n",
        "data = pd.read_csv('https://raw.githubusercontent.com/Jaleab/agvd-21b-javier-abarca/main/tareas/tarea_2/weatherAUS.csv')"
      ],
      "execution_count": 135,
      "outputs": []
    },
    {
      "cell_type": "markdown",
      "metadata": {
        "id": "np3IIXvQjnZ6"
      },
      "source": [
        "## 2. Exploración"
      ]
    },
    {
      "cell_type": "code",
      "metadata": {
        "colab": {
          "base_uri": "https://localhost:8080/"
        },
        "id": "iXQjw2mNl6jA",
        "outputId": "a0be4a03-856a-4573-97cb-c2e5e667ecf8"
      },
      "source": [
        "data.columns"
      ],
      "execution_count": 136,
      "outputs": [
        {
          "output_type": "execute_result",
          "data": {
            "text/plain": [
              "Index(['Date', 'Location', 'MinTemp', 'MaxTemp', 'Rainfall', 'Evaporation',\n",
              "       'Sunshine', 'WindGustDir', 'WindGustSpeed', 'WindDir9am', 'WindDir3pm',\n",
              "       'WindSpeed9am', 'WindSpeed3pm', 'Humidity9am', 'Humidity3pm',\n",
              "       'Pressure9am', 'Pressure3pm', 'Cloud9am', 'Cloud3pm', 'Temp9am',\n",
              "       'Temp3pm', 'RainToday', 'RainTomorrow'],\n",
              "      dtype='object')"
            ]
          },
          "metadata": {},
          "execution_count": 136
        }
      ]
    },
    {
      "cell_type": "code",
      "metadata": {
        "colab": {
          "base_uri": "https://localhost:8080/"
        },
        "id": "O1K49Pe2j9iW",
        "outputId": "815c4d9b-862c-4bd2-a7da-163a8eae5f22"
      },
      "source": [
        "data.shape"
      ],
      "execution_count": 137,
      "outputs": [
        {
          "output_type": "execute_result",
          "data": {
            "text/plain": [
              "(145460, 23)"
            ]
          },
          "metadata": {},
          "execution_count": 137
        }
      ]
    },
    {
      "cell_type": "markdown",
      "metadata": {
        "id": "-ZUtF2yFmGk_"
      },
      "source": [
        "El conjunto de datos es grande, tiene 145 mil filas y 23 columnas."
      ]
    },
    {
      "cell_type": "code",
      "metadata": {
        "colab": {
          "base_uri": "https://localhost:8080/",
          "height": 309
        },
        "id": "jF0jCJJ7lm7d",
        "outputId": "8ec82860-1ae6-496b-c3f7-074692372564"
      },
      "source": [
        "data.head()"
      ],
      "execution_count": 138,
      "outputs": [
        {
          "output_type": "execute_result",
          "data": {
            "text/html": [
              "<div>\n",
              "<style scoped>\n",
              "    .dataframe tbody tr th:only-of-type {\n",
              "        vertical-align: middle;\n",
              "    }\n",
              "\n",
              "    .dataframe tbody tr th {\n",
              "        vertical-align: top;\n",
              "    }\n",
              "\n",
              "    .dataframe thead th {\n",
              "        text-align: right;\n",
              "    }\n",
              "</style>\n",
              "<table border=\"1\" class=\"dataframe\">\n",
              "  <thead>\n",
              "    <tr style=\"text-align: right;\">\n",
              "      <th></th>\n",
              "      <th>Date</th>\n",
              "      <th>Location</th>\n",
              "      <th>MinTemp</th>\n",
              "      <th>MaxTemp</th>\n",
              "      <th>Rainfall</th>\n",
              "      <th>Evaporation</th>\n",
              "      <th>Sunshine</th>\n",
              "      <th>WindGustDir</th>\n",
              "      <th>WindGustSpeed</th>\n",
              "      <th>WindDir9am</th>\n",
              "      <th>WindDir3pm</th>\n",
              "      <th>WindSpeed9am</th>\n",
              "      <th>WindSpeed3pm</th>\n",
              "      <th>Humidity9am</th>\n",
              "      <th>Humidity3pm</th>\n",
              "      <th>Pressure9am</th>\n",
              "      <th>Pressure3pm</th>\n",
              "      <th>Cloud9am</th>\n",
              "      <th>Cloud3pm</th>\n",
              "      <th>Temp9am</th>\n",
              "      <th>Temp3pm</th>\n",
              "      <th>RainToday</th>\n",
              "      <th>RainTomorrow</th>\n",
              "    </tr>\n",
              "  </thead>\n",
              "  <tbody>\n",
              "    <tr>\n",
              "      <th>0</th>\n",
              "      <td>2008-12-01</td>\n",
              "      <td>Albury</td>\n",
              "      <td>13.4</td>\n",
              "      <td>22.9</td>\n",
              "      <td>0.6</td>\n",
              "      <td>NaN</td>\n",
              "      <td>NaN</td>\n",
              "      <td>W</td>\n",
              "      <td>44.0</td>\n",
              "      <td>W</td>\n",
              "      <td>WNW</td>\n",
              "      <td>20.0</td>\n",
              "      <td>24.0</td>\n",
              "      <td>71.0</td>\n",
              "      <td>22.0</td>\n",
              "      <td>1007.7</td>\n",
              "      <td>1007.1</td>\n",
              "      <td>8.0</td>\n",
              "      <td>NaN</td>\n",
              "      <td>16.9</td>\n",
              "      <td>21.8</td>\n",
              "      <td>No</td>\n",
              "      <td>No</td>\n",
              "    </tr>\n",
              "    <tr>\n",
              "      <th>1</th>\n",
              "      <td>2008-12-02</td>\n",
              "      <td>Albury</td>\n",
              "      <td>7.4</td>\n",
              "      <td>25.1</td>\n",
              "      <td>0.0</td>\n",
              "      <td>NaN</td>\n",
              "      <td>NaN</td>\n",
              "      <td>WNW</td>\n",
              "      <td>44.0</td>\n",
              "      <td>NNW</td>\n",
              "      <td>WSW</td>\n",
              "      <td>4.0</td>\n",
              "      <td>22.0</td>\n",
              "      <td>44.0</td>\n",
              "      <td>25.0</td>\n",
              "      <td>1010.6</td>\n",
              "      <td>1007.8</td>\n",
              "      <td>NaN</td>\n",
              "      <td>NaN</td>\n",
              "      <td>17.2</td>\n",
              "      <td>24.3</td>\n",
              "      <td>No</td>\n",
              "      <td>No</td>\n",
              "    </tr>\n",
              "    <tr>\n",
              "      <th>2</th>\n",
              "      <td>2008-12-03</td>\n",
              "      <td>Albury</td>\n",
              "      <td>12.9</td>\n",
              "      <td>25.7</td>\n",
              "      <td>0.0</td>\n",
              "      <td>NaN</td>\n",
              "      <td>NaN</td>\n",
              "      <td>WSW</td>\n",
              "      <td>46.0</td>\n",
              "      <td>W</td>\n",
              "      <td>WSW</td>\n",
              "      <td>19.0</td>\n",
              "      <td>26.0</td>\n",
              "      <td>38.0</td>\n",
              "      <td>30.0</td>\n",
              "      <td>1007.6</td>\n",
              "      <td>1008.7</td>\n",
              "      <td>NaN</td>\n",
              "      <td>2.0</td>\n",
              "      <td>21.0</td>\n",
              "      <td>23.2</td>\n",
              "      <td>No</td>\n",
              "      <td>No</td>\n",
              "    </tr>\n",
              "    <tr>\n",
              "      <th>3</th>\n",
              "      <td>2008-12-04</td>\n",
              "      <td>Albury</td>\n",
              "      <td>9.2</td>\n",
              "      <td>28.0</td>\n",
              "      <td>0.0</td>\n",
              "      <td>NaN</td>\n",
              "      <td>NaN</td>\n",
              "      <td>NE</td>\n",
              "      <td>24.0</td>\n",
              "      <td>SE</td>\n",
              "      <td>E</td>\n",
              "      <td>11.0</td>\n",
              "      <td>9.0</td>\n",
              "      <td>45.0</td>\n",
              "      <td>16.0</td>\n",
              "      <td>1017.6</td>\n",
              "      <td>1012.8</td>\n",
              "      <td>NaN</td>\n",
              "      <td>NaN</td>\n",
              "      <td>18.1</td>\n",
              "      <td>26.5</td>\n",
              "      <td>No</td>\n",
              "      <td>No</td>\n",
              "    </tr>\n",
              "    <tr>\n",
              "      <th>4</th>\n",
              "      <td>2008-12-05</td>\n",
              "      <td>Albury</td>\n",
              "      <td>17.5</td>\n",
              "      <td>32.3</td>\n",
              "      <td>1.0</td>\n",
              "      <td>NaN</td>\n",
              "      <td>NaN</td>\n",
              "      <td>W</td>\n",
              "      <td>41.0</td>\n",
              "      <td>ENE</td>\n",
              "      <td>NW</td>\n",
              "      <td>7.0</td>\n",
              "      <td>20.0</td>\n",
              "      <td>82.0</td>\n",
              "      <td>33.0</td>\n",
              "      <td>1010.8</td>\n",
              "      <td>1006.0</td>\n",
              "      <td>7.0</td>\n",
              "      <td>8.0</td>\n",
              "      <td>17.8</td>\n",
              "      <td>29.7</td>\n",
              "      <td>No</td>\n",
              "      <td>No</td>\n",
              "    </tr>\n",
              "  </tbody>\n",
              "</table>\n",
              "</div>"
            ],
            "text/plain": [
              "         Date Location  MinTemp  ...  Temp3pm  RainToday  RainTomorrow\n",
              "0  2008-12-01   Albury     13.4  ...     21.8         No            No\n",
              "1  2008-12-02   Albury      7.4  ...     24.3         No            No\n",
              "2  2008-12-03   Albury     12.9  ...     23.2         No            No\n",
              "3  2008-12-04   Albury      9.2  ...     26.5         No            No\n",
              "4  2008-12-05   Albury     17.5  ...     29.7         No            No\n",
              "\n",
              "[5 rows x 23 columns]"
            ]
          },
          "metadata": {},
          "execution_count": 138
        }
      ]
    },
    {
      "cell_type": "code",
      "metadata": {
        "colab": {
          "base_uri": "https://localhost:8080/"
        },
        "id": "rObShGlUocwM",
        "outputId": "3c5d95d7-ab56-4005-c585-be31556240c6"
      },
      "source": [
        "data.info()"
      ],
      "execution_count": 139,
      "outputs": [
        {
          "output_type": "stream",
          "name": "stdout",
          "text": [
            "<class 'pandas.core.frame.DataFrame'>\n",
            "RangeIndex: 145460 entries, 0 to 145459\n",
            "Data columns (total 23 columns):\n",
            " #   Column         Non-Null Count   Dtype  \n",
            "---  ------         --------------   -----  \n",
            " 0   Date           145460 non-null  object \n",
            " 1   Location       145460 non-null  object \n",
            " 2   MinTemp        143975 non-null  float64\n",
            " 3   MaxTemp        144199 non-null  float64\n",
            " 4   Rainfall       142199 non-null  float64\n",
            " 5   Evaporation    82670 non-null   float64\n",
            " 6   Sunshine       75625 non-null   float64\n",
            " 7   WindGustDir    135134 non-null  object \n",
            " 8   WindGustSpeed  135197 non-null  float64\n",
            " 9   WindDir9am     134894 non-null  object \n",
            " 10  WindDir3pm     141232 non-null  object \n",
            " 11  WindSpeed9am   143693 non-null  float64\n",
            " 12  WindSpeed3pm   142398 non-null  float64\n",
            " 13  Humidity9am    142806 non-null  float64\n",
            " 14  Humidity3pm    140953 non-null  float64\n",
            " 15  Pressure9am    130395 non-null  float64\n",
            " 16  Pressure3pm    130432 non-null  float64\n",
            " 17  Cloud9am       89572 non-null   float64\n",
            " 18  Cloud3pm       86102 non-null   float64\n",
            " 19  Temp9am        143693 non-null  float64\n",
            " 20  Temp3pm        141851 non-null  float64\n",
            " 21  RainToday      142199 non-null  object \n",
            " 22  RainTomorrow   142193 non-null  object \n",
            "dtypes: float64(16), object(7)\n",
            "memory usage: 25.5+ MB\n"
          ]
        }
      ]
    },
    {
      "cell_type": "markdown",
      "metadata": {
        "id": "6pfP2I24maBb"
      },
      "source": [
        "Tiene 7 atributos categóricos de los 23 que tiene el conjunto."
      ]
    },
    {
      "cell_type": "markdown",
      "metadata": {
        "id": "k3VGMzZ_m39e"
      },
      "source": [
        "## Preprocesamiento y limpieza"
      ]
    },
    {
      "cell_type": "code",
      "metadata": {
        "colab": {
          "base_uri": "https://localhost:8080/"
        },
        "id": "92TU0i0nm_Rk",
        "outputId": "bcea30e7-91f4-49ea-d3e1-c339a2a557cf"
      },
      "source": [
        "# Cantidad de elementos unicos\n",
        "data.nunique()"
      ],
      "execution_count": 140,
      "outputs": [
        {
          "output_type": "execute_result",
          "data": {
            "text/plain": [
              "Date             3436\n",
              "Location           49\n",
              "MinTemp           389\n",
              "MaxTemp           505\n",
              "Rainfall          681\n",
              "Evaporation       358\n",
              "Sunshine          145\n",
              "WindGustDir        16\n",
              "WindGustSpeed      67\n",
              "WindDir9am         16\n",
              "WindDir3pm         16\n",
              "WindSpeed9am       43\n",
              "WindSpeed3pm       44\n",
              "Humidity9am       101\n",
              "Humidity3pm       101\n",
              "Pressure9am       546\n",
              "Pressure3pm       549\n",
              "Cloud9am           10\n",
              "Cloud3pm           10\n",
              "Temp9am           441\n",
              "Temp3pm           502\n",
              "RainToday           2\n",
              "RainTomorrow        2\n",
              "dtype: int64"
            ]
          },
          "metadata": {},
          "execution_count": 140
        }
      ]
    },
    {
      "cell_type": "code",
      "metadata": {
        "colab": {
          "base_uri": "https://localhost:8080/"
        },
        "id": "MPh08kO7nQVb",
        "outputId": "407535b9-d4cf-46b3-fae6-f894ed79975e"
      },
      "source": [
        "# Eliminacion de nulos\n",
        "data = data.dropna()\n",
        "# Chequeo de cantidad de filas\n",
        "data.shape"
      ],
      "execution_count": 141,
      "outputs": [
        {
          "output_type": "execute_result",
          "data": {
            "text/plain": [
              "(56420, 23)"
            ]
          },
          "metadata": {},
          "execution_count": 141
        }
      ]
    },
    {
      "cell_type": "code",
      "metadata": {
        "colab": {
          "base_uri": "https://localhost:8080/"
        },
        "id": "qv-sCHoCnihR",
        "outputId": "45d0210a-9475-4215-c1a5-63fd5de318a9"
      },
      "source": [
        "# Verificacion de la limpieza\n",
        "data.isnull().sum()"
      ],
      "execution_count": 142,
      "outputs": [
        {
          "output_type": "execute_result",
          "data": {
            "text/plain": [
              "Date             0\n",
              "Location         0\n",
              "MinTemp          0\n",
              "MaxTemp          0\n",
              "Rainfall         0\n",
              "Evaporation      0\n",
              "Sunshine         0\n",
              "WindGustDir      0\n",
              "WindGustSpeed    0\n",
              "WindDir9am       0\n",
              "WindDir3pm       0\n",
              "WindSpeed9am     0\n",
              "WindSpeed3pm     0\n",
              "Humidity9am      0\n",
              "Humidity3pm      0\n",
              "Pressure9am      0\n",
              "Pressure3pm      0\n",
              "Cloud9am         0\n",
              "Cloud3pm         0\n",
              "Temp9am          0\n",
              "Temp3pm          0\n",
              "RainToday        0\n",
              "RainTomorrow     0\n",
              "dtype: int64"
            ]
          },
          "metadata": {},
          "execution_count": 142
        }
      ]
    },
    {
      "cell_type": "markdown",
      "metadata": {
        "id": "rNAw9yVKnmYo"
      },
      "source": [
        "Aproximadamente la mitad de los datos tenían valores nulos."
      ]
    },
    {
      "cell_type": "markdown",
      "metadata": {
        "id": "WODuD4cGuJCv"
      },
      "source": [
        "##  Transformación de datos, selección y extracción de atributos"
      ]
    },
    {
      "cell_type": "code",
      "metadata": {
        "colab": {
          "base_uri": "https://localhost:8080/",
          "height": 204
        },
        "id": "uo6IelnHJ-mJ",
        "outputId": "5816cd26-9db9-44da-a7c7-9ae2935eb90d"
      },
      "source": [
        "y = data.RainToday\n",
        "x = data.drop(['Date', 'Location', 'RainToday', 'RainTomorrow'], axis=1)\n",
        "x.head()"
      ],
      "execution_count": 143,
      "outputs": [
        {
          "output_type": "execute_result",
          "data": {
            "text/html": [
              "<div>\n",
              "<style scoped>\n",
              "    .dataframe tbody tr th:only-of-type {\n",
              "        vertical-align: middle;\n",
              "    }\n",
              "\n",
              "    .dataframe tbody tr th {\n",
              "        vertical-align: top;\n",
              "    }\n",
              "\n",
              "    .dataframe thead th {\n",
              "        text-align: right;\n",
              "    }\n",
              "</style>\n",
              "<table border=\"1\" class=\"dataframe\">\n",
              "  <thead>\n",
              "    <tr style=\"text-align: right;\">\n",
              "      <th></th>\n",
              "      <th>MinTemp</th>\n",
              "      <th>MaxTemp</th>\n",
              "      <th>Rainfall</th>\n",
              "      <th>Evaporation</th>\n",
              "      <th>Sunshine</th>\n",
              "      <th>WindGustDir</th>\n",
              "      <th>WindGustSpeed</th>\n",
              "      <th>WindDir9am</th>\n",
              "      <th>WindDir3pm</th>\n",
              "      <th>WindSpeed9am</th>\n",
              "      <th>WindSpeed3pm</th>\n",
              "      <th>Humidity9am</th>\n",
              "      <th>Humidity3pm</th>\n",
              "      <th>Pressure9am</th>\n",
              "      <th>Pressure3pm</th>\n",
              "      <th>Cloud9am</th>\n",
              "      <th>Cloud3pm</th>\n",
              "      <th>Temp9am</th>\n",
              "      <th>Temp3pm</th>\n",
              "    </tr>\n",
              "  </thead>\n",
              "  <tbody>\n",
              "    <tr>\n",
              "      <th>6049</th>\n",
              "      <td>17.9</td>\n",
              "      <td>35.2</td>\n",
              "      <td>0.0</td>\n",
              "      <td>12.0</td>\n",
              "      <td>12.3</td>\n",
              "      <td>SSW</td>\n",
              "      <td>48.0</td>\n",
              "      <td>ENE</td>\n",
              "      <td>SW</td>\n",
              "      <td>6.0</td>\n",
              "      <td>20.0</td>\n",
              "      <td>20.0</td>\n",
              "      <td>13.0</td>\n",
              "      <td>1006.3</td>\n",
              "      <td>1004.4</td>\n",
              "      <td>2.0</td>\n",
              "      <td>5.0</td>\n",
              "      <td>26.6</td>\n",
              "      <td>33.4</td>\n",
              "    </tr>\n",
              "    <tr>\n",
              "      <th>6050</th>\n",
              "      <td>18.4</td>\n",
              "      <td>28.9</td>\n",
              "      <td>0.0</td>\n",
              "      <td>14.8</td>\n",
              "      <td>13.0</td>\n",
              "      <td>S</td>\n",
              "      <td>37.0</td>\n",
              "      <td>SSE</td>\n",
              "      <td>SSE</td>\n",
              "      <td>19.0</td>\n",
              "      <td>19.0</td>\n",
              "      <td>30.0</td>\n",
              "      <td>8.0</td>\n",
              "      <td>1012.9</td>\n",
              "      <td>1012.1</td>\n",
              "      <td>1.0</td>\n",
              "      <td>1.0</td>\n",
              "      <td>20.3</td>\n",
              "      <td>27.0</td>\n",
              "    </tr>\n",
              "    <tr>\n",
              "      <th>6052</th>\n",
              "      <td>19.4</td>\n",
              "      <td>37.6</td>\n",
              "      <td>0.0</td>\n",
              "      <td>10.8</td>\n",
              "      <td>10.6</td>\n",
              "      <td>NNE</td>\n",
              "      <td>46.0</td>\n",
              "      <td>NNE</td>\n",
              "      <td>NNW</td>\n",
              "      <td>30.0</td>\n",
              "      <td>15.0</td>\n",
              "      <td>42.0</td>\n",
              "      <td>22.0</td>\n",
              "      <td>1012.3</td>\n",
              "      <td>1009.2</td>\n",
              "      <td>1.0</td>\n",
              "      <td>6.0</td>\n",
              "      <td>28.7</td>\n",
              "      <td>34.9</td>\n",
              "    </tr>\n",
              "    <tr>\n",
              "      <th>6053</th>\n",
              "      <td>21.9</td>\n",
              "      <td>38.4</td>\n",
              "      <td>0.0</td>\n",
              "      <td>11.4</td>\n",
              "      <td>12.2</td>\n",
              "      <td>WNW</td>\n",
              "      <td>31.0</td>\n",
              "      <td>WNW</td>\n",
              "      <td>WSW</td>\n",
              "      <td>6.0</td>\n",
              "      <td>6.0</td>\n",
              "      <td>37.0</td>\n",
              "      <td>22.0</td>\n",
              "      <td>1012.7</td>\n",
              "      <td>1009.1</td>\n",
              "      <td>1.0</td>\n",
              "      <td>5.0</td>\n",
              "      <td>29.1</td>\n",
              "      <td>35.6</td>\n",
              "    </tr>\n",
              "    <tr>\n",
              "      <th>6054</th>\n",
              "      <td>24.2</td>\n",
              "      <td>41.0</td>\n",
              "      <td>0.0</td>\n",
              "      <td>11.2</td>\n",
              "      <td>8.4</td>\n",
              "      <td>WNW</td>\n",
              "      <td>35.0</td>\n",
              "      <td>NW</td>\n",
              "      <td>WNW</td>\n",
              "      <td>17.0</td>\n",
              "      <td>13.0</td>\n",
              "      <td>19.0</td>\n",
              "      <td>15.0</td>\n",
              "      <td>1010.7</td>\n",
              "      <td>1007.4</td>\n",
              "      <td>1.0</td>\n",
              "      <td>6.0</td>\n",
              "      <td>33.6</td>\n",
              "      <td>37.6</td>\n",
              "    </tr>\n",
              "  </tbody>\n",
              "</table>\n",
              "</div>"
            ],
            "text/plain": [
              "      MinTemp  MaxTemp  Rainfall  ...  Cloud3pm  Temp9am Temp3pm\n",
              "6049     17.9     35.2       0.0  ...       5.0     26.6    33.4\n",
              "6050     18.4     28.9       0.0  ...       1.0     20.3    27.0\n",
              "6052     19.4     37.6       0.0  ...       6.0     28.7    34.9\n",
              "6053     21.9     38.4       0.0  ...       5.0     29.1    35.6\n",
              "6054     24.2     41.0       0.0  ...       6.0     33.6    37.6\n",
              "\n",
              "[5 rows x 19 columns]"
            ]
          },
          "metadata": {},
          "execution_count": 143
        }
      ]
    },
    {
      "cell_type": "code",
      "metadata": {
        "id": "m0ZPevQiuN9V"
      },
      "source": [
        "def label_encoding(column, dataToEncode):\n",
        "    label_encoder = preprocessing.LabelEncoder()\n",
        " \n",
        "    dataToEncode[column] = label_encoder.fit_transform(dataToEncode[column].astype(str))\n",
        " \n",
        "    dataToEncode[column].unique()"
      ],
      "execution_count": 144,
      "outputs": []
    },
    {
      "cell_type": "code",
      "metadata": {
        "colab": {
          "base_uri": "https://localhost:8080/",
          "height": 204
        },
        "id": "JKgyFGf4vGYM",
        "outputId": "786b6aad-2605-4323-c5fa-ab674e408c5b"
      },
      "source": [
        "for column in x.columns:\n",
        "  if x[column].dtype == object:\n",
        "    label_encoding(column, x)\n",
        "x.head()"
      ],
      "execution_count": 145,
      "outputs": [
        {
          "output_type": "execute_result",
          "data": {
            "text/html": [
              "<div>\n",
              "<style scoped>\n",
              "    .dataframe tbody tr th:only-of-type {\n",
              "        vertical-align: middle;\n",
              "    }\n",
              "\n",
              "    .dataframe tbody tr th {\n",
              "        vertical-align: top;\n",
              "    }\n",
              "\n",
              "    .dataframe thead th {\n",
              "        text-align: right;\n",
              "    }\n",
              "</style>\n",
              "<table border=\"1\" class=\"dataframe\">\n",
              "  <thead>\n",
              "    <tr style=\"text-align: right;\">\n",
              "      <th></th>\n",
              "      <th>MinTemp</th>\n",
              "      <th>MaxTemp</th>\n",
              "      <th>Rainfall</th>\n",
              "      <th>Evaporation</th>\n",
              "      <th>Sunshine</th>\n",
              "      <th>WindGustDir</th>\n",
              "      <th>WindGustSpeed</th>\n",
              "      <th>WindDir9am</th>\n",
              "      <th>WindDir3pm</th>\n",
              "      <th>WindSpeed9am</th>\n",
              "      <th>WindSpeed3pm</th>\n",
              "      <th>Humidity9am</th>\n",
              "      <th>Humidity3pm</th>\n",
              "      <th>Pressure9am</th>\n",
              "      <th>Pressure3pm</th>\n",
              "      <th>Cloud9am</th>\n",
              "      <th>Cloud3pm</th>\n",
              "      <th>Temp9am</th>\n",
              "      <th>Temp3pm</th>\n",
              "    </tr>\n",
              "  </thead>\n",
              "  <tbody>\n",
              "    <tr>\n",
              "      <th>6049</th>\n",
              "      <td>17.9</td>\n",
              "      <td>35.2</td>\n",
              "      <td>0.0</td>\n",
              "      <td>12.0</td>\n",
              "      <td>12.3</td>\n",
              "      <td>11</td>\n",
              "      <td>48.0</td>\n",
              "      <td>1</td>\n",
              "      <td>12</td>\n",
              "      <td>6.0</td>\n",
              "      <td>20.0</td>\n",
              "      <td>20.0</td>\n",
              "      <td>13.0</td>\n",
              "      <td>1006.3</td>\n",
              "      <td>1004.4</td>\n",
              "      <td>2.0</td>\n",
              "      <td>5.0</td>\n",
              "      <td>26.6</td>\n",
              "      <td>33.4</td>\n",
              "    </tr>\n",
              "    <tr>\n",
              "      <th>6050</th>\n",
              "      <td>18.4</td>\n",
              "      <td>28.9</td>\n",
              "      <td>0.0</td>\n",
              "      <td>14.8</td>\n",
              "      <td>13.0</td>\n",
              "      <td>8</td>\n",
              "      <td>37.0</td>\n",
              "      <td>10</td>\n",
              "      <td>10</td>\n",
              "      <td>19.0</td>\n",
              "      <td>19.0</td>\n",
              "      <td>30.0</td>\n",
              "      <td>8.0</td>\n",
              "      <td>1012.9</td>\n",
              "      <td>1012.1</td>\n",
              "      <td>1.0</td>\n",
              "      <td>1.0</td>\n",
              "      <td>20.3</td>\n",
              "      <td>27.0</td>\n",
              "    </tr>\n",
              "    <tr>\n",
              "      <th>6052</th>\n",
              "      <td>19.4</td>\n",
              "      <td>37.6</td>\n",
              "      <td>0.0</td>\n",
              "      <td>10.8</td>\n",
              "      <td>10.6</td>\n",
              "      <td>5</td>\n",
              "      <td>46.0</td>\n",
              "      <td>5</td>\n",
              "      <td>6</td>\n",
              "      <td>30.0</td>\n",
              "      <td>15.0</td>\n",
              "      <td>42.0</td>\n",
              "      <td>22.0</td>\n",
              "      <td>1012.3</td>\n",
              "      <td>1009.2</td>\n",
              "      <td>1.0</td>\n",
              "      <td>6.0</td>\n",
              "      <td>28.7</td>\n",
              "      <td>34.9</td>\n",
              "    </tr>\n",
              "    <tr>\n",
              "      <th>6053</th>\n",
              "      <td>21.9</td>\n",
              "      <td>38.4</td>\n",
              "      <td>0.0</td>\n",
              "      <td>11.4</td>\n",
              "      <td>12.2</td>\n",
              "      <td>14</td>\n",
              "      <td>31.0</td>\n",
              "      <td>14</td>\n",
              "      <td>15</td>\n",
              "      <td>6.0</td>\n",
              "      <td>6.0</td>\n",
              "      <td>37.0</td>\n",
              "      <td>22.0</td>\n",
              "      <td>1012.7</td>\n",
              "      <td>1009.1</td>\n",
              "      <td>1.0</td>\n",
              "      <td>5.0</td>\n",
              "      <td>29.1</td>\n",
              "      <td>35.6</td>\n",
              "    </tr>\n",
              "    <tr>\n",
              "      <th>6054</th>\n",
              "      <td>24.2</td>\n",
              "      <td>41.0</td>\n",
              "      <td>0.0</td>\n",
              "      <td>11.2</td>\n",
              "      <td>8.4</td>\n",
              "      <td>14</td>\n",
              "      <td>35.0</td>\n",
              "      <td>7</td>\n",
              "      <td>14</td>\n",
              "      <td>17.0</td>\n",
              "      <td>13.0</td>\n",
              "      <td>19.0</td>\n",
              "      <td>15.0</td>\n",
              "      <td>1010.7</td>\n",
              "      <td>1007.4</td>\n",
              "      <td>1.0</td>\n",
              "      <td>6.0</td>\n",
              "      <td>33.6</td>\n",
              "      <td>37.6</td>\n",
              "    </tr>\n",
              "  </tbody>\n",
              "</table>\n",
              "</div>"
            ],
            "text/plain": [
              "      MinTemp  MaxTemp  Rainfall  ...  Cloud3pm  Temp9am  Temp3pm\n",
              "6049     17.9     35.2       0.0  ...       5.0     26.6     33.4\n",
              "6050     18.4     28.9       0.0  ...       1.0     20.3     27.0\n",
              "6052     19.4     37.6       0.0  ...       6.0     28.7     34.9\n",
              "6053     21.9     38.4       0.0  ...       5.0     29.1     35.6\n",
              "6054     24.2     41.0       0.0  ...       6.0     33.6     37.6\n",
              "\n",
              "[5 rows x 19 columns]"
            ]
          },
          "metadata": {},
          "execution_count": 145
        }
      ]
    },
    {
      "cell_type": "markdown",
      "metadata": {
        "id": "lT_chIR9NOJG"
      },
      "source": [
        "### Escalar el dataset"
      ]
    },
    {
      "cell_type": "code",
      "metadata": {
        "colab": {
          "base_uri": "https://localhost:8080/"
        },
        "id": "8iqLhiScMRYK",
        "outputId": "68871331-e94a-40c8-b90e-6002f88cf157"
      },
      "source": [
        "scaler = StandardScaler()\n",
        "scaler.fit(x)"
      ],
      "execution_count": 146,
      "outputs": [
        {
          "output_type": "execute_result",
          "data": {
            "text/plain": [
              "StandardScaler(copy=True, with_mean=True, with_std=True)"
            ]
          },
          "metadata": {},
          "execution_count": 146
        }
      ]
    },
    {
      "cell_type": "code",
      "metadata": {
        "colab": {
          "base_uri": "https://localhost:8080/"
        },
        "id": "sisDgF0pMdQU",
        "outputId": "5c33d5ac-6de1-4a97-ab1e-cb6efc363173"
      },
      "source": [
        "scaled_data = scaler.transform(x)\n",
        "print(scaled_data)"
      ],
      "execution_count": 147,
      "outputs": [
        {
          "output_type": "stream",
          "name": "stdout",
          "text": [
            "[[ 0.69120848  1.57529783 -0.30370205 ...  0.25441126  1.27818584\n",
            "   1.56362087]\n",
            " [ 0.76913098  0.67150378 -0.30370205 ... -1.25660337  0.31897996\n",
            "   0.62746694]\n",
            " [ 0.92497598  1.91960032 -0.30370205 ...  0.63216492  1.59792114\n",
            "   1.78303195]\n",
            " ...\n",
            " [ 1.12757448  1.23099533 -0.30370205 ... -1.63435703  1.00412702\n",
            "   1.37346461]\n",
            " [ 0.94056048  1.08753596 -0.30370205 ... -1.25660337  1.00412702\n",
            "   0.94926986]\n",
            " [ 1.04965198  1.07319002 -0.30370205 ...  0.25441126  1.09547996\n",
            "   1.21256315]]\n"
          ]
        }
      ]
    },
    {
      "cell_type": "markdown",
      "metadata": {
        "id": "OWkp1xYlNUzI"
      },
      "source": [
        "### Aplicar PCA para reducir dimensionalidad"
      ]
    },
    {
      "cell_type": "code",
      "metadata": {
        "colab": {
          "base_uri": "https://localhost:8080/"
        },
        "id": "TcZCiwnwNbg2",
        "outputId": "fabbeab7-9029-4426-d9a3-4f1d8c52425a"
      },
      "source": [
        "# Objetivo: La menor cantidad de features con los que se logre una varianza del 95%\n",
        "pca=PCA(.95)\n",
        "principalComponents = pca.fit(scaled_data)\n",
        "x = pca.transform(scaled_data)\n",
        "x.shape"
      ],
      "execution_count": 148,
      "outputs": [
        {
          "output_type": "execute_result",
          "data": {
            "text/plain": [
              "(56420, 12)"
            ]
          },
          "metadata": {},
          "execution_count": 148
        }
      ]
    },
    {
      "cell_type": "code",
      "metadata": {
        "id": "ZrF1hw_8Mq5e"
      },
      "source": [
        "train_x, test_x, train_y, test_y = train_test_split(scaled_data, y, test_size= 0.2)"
      ],
      "execution_count": 149,
      "outputs": []
    },
    {
      "cell_type": "markdown",
      "metadata": {
        "id": "iNhezuy3N4Y9"
      },
      "source": [
        "## Modelos"
      ]
    },
    {
      "cell_type": "markdown",
      "metadata": {
        "id": "Yms2uHRoOGT9"
      },
      "source": [
        "## Maquina de soporte vectorial"
      ]
    },
    {
      "cell_type": "markdown",
      "metadata": {
        "id": "_D1HVCjCYTkC"
      },
      "source": [
        "### Parameters\n"
      ]
    },
    {
      "cell_type": "markdown",
      "metadata": {
        "id": "Hl5M7V2udMhL"
      },
      "source": [
        "* Valor de C: Es un valor equivalente al castigo al ocurrir una clasificación  errónea, se van a buscar entre los valores 0.1 y 0.3.\n",
        "* Función kernel: Es la forma de separar los datos, se van buscar entre las funciones poly y sigmoid.\n",
        "* Gamma: Es un coeficiente utilizado por la función kernel. Se estableció como scale, esto significa que su valor va a ser 1 / n_features.\n"
      ]
    },
    {
      "cell_type": "code",
      "metadata": {
        "id": "7Qzgm5hkdLZp"
      },
      "source": [
        "support_vector_classifier = SVC()\n",
        "C = [0.1, 0.3]\n",
        "kernel = ['poly', 'sigmoid']\n",
        "gamma = ['auto']"
      ],
      "execution_count": 156,
      "outputs": []
    },
    {
      "cell_type": "markdown",
      "metadata": {
        "id": "L1XmG3qee-qY"
      },
      "source": [
        "### Stratified cross validation para busqueda de hiperparámetros"
      ]
    },
    {
      "cell_type": "code",
      "metadata": {
        "id": "atDdcW9BfAhG"
      },
      "source": [
        "grid = dict(kernel=kernel,C=C,gamma=gamma)\n",
        "cv = RepeatedStratifiedKFold(n_splits=10, n_repeats=3, random_state=1)\n",
        "grid_search = GridSearchCV(estimator=support_vector_classifier, param_grid=grid, n_jobs=-1, cv=cv, scoring='accuracy',error_score=0)\n",
        "grid_result = grid_search.fit(train_x, train_y)"
      ],
      "execution_count": 168,
      "outputs": []
    },
    {
      "cell_type": "markdown",
      "metadata": {
        "id": "477K1h43fOAI"
      },
      "source": [
        "### Mejor combinación"
      ]
    },
    {
      "cell_type": "code",
      "metadata": {
        "colab": {
          "base_uri": "https://localhost:8080/"
        },
        "id": "80kgOdZJfSDa",
        "outputId": "0a30402e-db99-43d3-a0a5-7578dfce28d5"
      },
      "source": [
        "print(\"Best: %f using %s\" % (grid_result.best_score_, grid_result.best_params_))\n",
        "means = grid_result.cv_results_['mean_test_score']\n",
        "stds = grid_result.cv_results_['std_test_score']\n",
        "params = grid_result.cv_results_['params']\n",
        "for mean, stdev, param in zip(means, stds, params):\n",
        "    print(\"%f (%f) with: %r\" % (mean, stdev, param))\n",
        "# Best: 0.945609 using {'C': 0.3, 'gamma': 'auto', 'kernel': 'poly'}"
      ],
      "execution_count": 159,
      "outputs": [
        {
          "output_type": "stream",
          "name": "stdout",
          "text": [
            "Best: 0.945609 using {'C': 0.3, 'gamma': 'auto', 'kernel': 'poly'}\n",
            "0.923579 (0.002887) with: {'C': 0.1, 'gamma': 'auto', 'kernel': 'poly'}\n",
            "0.841486 (0.007217) with: {'C': 0.1, 'gamma': 'auto', 'kernel': 'sigmoid'}\n",
            "0.945609 (0.002742) with: {'C': 0.3, 'gamma': 'auto', 'kernel': 'poly'}\n",
            "0.838067 (0.006794) with: {'C': 0.3, 'gamma': 'auto', 'kernel': 'sigmoid'}\n"
          ]
        }
      ]
    },
    {
      "cell_type": "markdown",
      "metadata": {
        "id": "dzgwEdC_fbTF"
      },
      "source": [
        "Se puede observar que las combinaciones con la función kernel 'Sigmoid' tuvieron resultados muy bajos comparados a los obtenidos con al funcion 'poly'. La mejor combinación fue la siguiente:\n",
        "* C = 0.3\n",
        "* gamma = auto\n",
        "* Kernel = poly"
      ]
    },
    {
      "cell_type": "markdown",
      "metadata": {
        "id": "r9o6r4VMfVuS"
      },
      "source": [
        "### Creación del modelo"
      ]
    },
    {
      "cell_type": "code",
      "metadata": {
        "id": "SyjLImfcn-O5"
      },
      "source": [
        "svm = SVC(kernel='poly', C=0.3, gamma='auto')"
      ],
      "execution_count": 160,
      "outputs": []
    },
    {
      "cell_type": "markdown",
      "metadata": {
        "id": "u0QV22-bndvT"
      },
      "source": [
        "### Evaluación"
      ]
    },
    {
      "cell_type": "code",
      "metadata": {
        "id": "e9BY_v7Enftx"
      },
      "source": [
        "# k-Fold Cross-Validation\n",
        "cv = KFold(n_splits=10, shuffle=True, random_state=1)\n",
        "# Ejecucion del cross validation\n",
        "scoresSVC = cross_val_score(svm, x, y, scoring='accuracy', cv=cv, n_jobs=-1)"
      ],
      "execution_count": 161,
      "outputs": []
    },
    {
      "cell_type": "code",
      "metadata": {
        "colab": {
          "base_uri": "https://localhost:8080/",
          "height": 295
        },
        "id": "cG3XyEEJtd9Y",
        "outputId": "0cca3f54-b45a-4d03-9e85-f047aab7c1cf"
      },
      "source": [
        "pyplot.boxplot(scoresSVC, showmeans=True)\n",
        "pyplot.title(\"Resultados de la evaluación del modelo Support Vector Machine\")\n",
        "pyplot.ylabel(\"Presición\")\n",
        "pyplot.xlabel(\"Modelo\")\n",
        "pyplot.show()"
      ],
      "execution_count": 162,
      "outputs": [
        {
          "output_type": "display_data",
          "data": {
            "image/png": "[encoded data removed]",
            "text/plain": [
              "<Figure size 432x288 with 1 Axes>"
            ]
          },
          "metadata": {
            "needs_background": "light"
          }
        }
      ]
    },
    {
      "cell_type": "markdown",
      "metadata": {
        "id": "8S4w2u2COEBd"
      },
      "source": [
        "## Random Forest"
      ]
    },
    {
      "cell_type": "markdown",
      "metadata": {
        "id": "pNbYfhleOIz6"
      },
      "source": [
        "#### Parameters"
      ]
    },
    {
      "cell_type": "markdown",
      "metadata": {
        "id": "3dhP3t281MRE"
      },
      "source": [
        "* n_estimators: Es la cantidad de árboles, se va a buscar entre 40, 100 o 500 arboles.\n",
        "* max_features: Cantidad de parámetros utilizados. El espacio de búsqueda va a ser entre 2, 6 o 12 atributos.\n",
        "* max_depth: Profundidad máxima del árbol, se decidió mantener con el valor predeterminado (None)."
      ]
    },
    {
      "cell_type": "code",
      "metadata": {
        "id": "PpVfzqP-OZws"
      },
      "source": [
        "forest_model = RandomForestClassifier()\n",
        "n_estimators = [40, 100, 500]\n",
        "max_features = [2, 6, 12]"
      ],
      "execution_count": 163,
      "outputs": []
    },
    {
      "cell_type": "markdown",
      "metadata": {
        "id": "pgKfWFzoPVHm"
      },
      "source": [
        "### Stratified cross validation para busqueda de hiperparámetros"
      ]
    },
    {
      "cell_type": "code",
      "metadata": {
        "id": "5wGq6sJDQcvU"
      },
      "source": [
        "grid = dict(n_estimators=n_estimators, max_features=max_features)\n",
        "cv = RepeatedStratifiedKFold(n_splits=10, n_repeats=3, random_state=1)\n",
        "grid_search = GridSearchCV(estimator=forestModel, param_grid=grid, n_jobs=-1, cv=cv, scoring='accuracy',error_score=0)\n",
        "grid_result = grid_search.fit(train_x, train_y)"
      ],
      "execution_count": 164,
      "outputs": []
    },
    {
      "cell_type": "markdown",
      "metadata": {
        "id": "EywlCSr-QxHk"
      },
      "source": [
        "### Mejor combinación"
      ]
    },
    {
      "cell_type": "code",
      "metadata": {
        "colab": {
          "base_uri": "https://localhost:8080/"
        },
        "id": "V78gytSqQ7BA",
        "outputId": "b6c1f758-d841-487a-a25f-28f072d228dc"
      },
      "source": [
        "print(\"Best: %f using %s\" % (grid_result.best_score_, grid_result.best_params_))\n",
        "means = grid_result.cv_results_['mean_test_score']\n",
        "stds = grid_result.cv_results_['std_test_score']\n",
        "params = grid_result.cv_results_['params']\n",
        "for mean, stdev, param in zip(means, stds, params):\n",
        "    print(\"%f (%f) with: %r\" % (mean, stdev, param))\n",
        "# Best: 0.999970 using {'max_features': 2, 'n_estimators': 100}"
      ],
      "execution_count": 101,
      "outputs": [
        {
          "output_type": "stream",
          "name": "stdout",
          "text": [
            "Best: 0.999970 using {'max_features': 2, 'n_estimators': 100}\n",
            "0.999941 (0.000118) with: {'max_features': 2, 'n_estimators': 40}\n",
            "0.999970 (0.000089) with: {'max_features': 2, 'n_estimators': 100}\n",
            "0.999970 (0.000089) with: {'max_features': 2, 'n_estimators': 500}\n",
            "0.999970 (0.000089) with: {'max_features': 6, 'n_estimators': 40}\n",
            "0.999970 (0.000089) with: {'max_features': 6, 'n_estimators': 100}\n",
            "0.999970 (0.000089) with: {'max_features': 6, 'n_estimators': 500}\n",
            "0.999970 (0.000089) with: {'max_features': 12, 'n_estimators': 40}\n",
            "0.999970 (0.000089) with: {'max_features': 12, 'n_estimators': 100}\n",
            "0.999970 (0.000089) with: {'max_features': 12, 'n_estimators': 500}\n"
          ]
        }
      ]
    },
    {
      "cell_type": "markdown",
      "metadata": {
        "id": "abYWh7W7RcC7"
      },
      "source": [
        "Se puede observar que las combinaciones tienen un desempeño similar, sin embargo los valores que se van a utilizar por ser los mejores son:\n",
        "* max_features = 2\n",
        "* n_estimators = 100"
      ]
    },
    {
      "cell_type": "markdown",
      "metadata": {
        "id": "WrHrEJNpRKjn"
      },
      "source": [
        "### Creación del modelo"
      ]
    },
    {
      "cell_type": "code",
      "metadata": {
        "id": "h_0-1NjzRNd0"
      },
      "source": [
        "random_forest_classifier = RandomForestClassifier(random_state=0, max_features=2, n_estimators=100)"
      ],
      "execution_count": 165,
      "outputs": []
    },
    {
      "cell_type": "markdown",
      "metadata": {
        "id": "dnW_skT0R0Jt"
      },
      "source": [
        "### Evaluacion"
      ]
    },
    {
      "cell_type": "code",
      "metadata": {
        "id": "u7Y0FvwzWQfG"
      },
      "source": [
        "cv = RepeatedStratifiedKFold(n_splits=10, n_repeats=3, random_state=1)\n",
        "# evaluacion y recoleccion de resultados\n",
        "scoresRF = cross_val_score(random_forest_classifier, x, y, scoring='accuracy', cv=cv, n_jobs=-1)"
      ],
      "execution_count": 166,
      "outputs": []
    },
    {
      "cell_type": "code",
      "metadata": {
        "colab": {
          "base_uri": "https://localhost:8080/",
          "height": 295
        },
        "id": "AjDIQ7zGZPqV",
        "outputId": "3152f90d-5e27-4647-d072-31e81ee234ae"
      },
      "source": [
        "pyplot.boxplot(scoresRF, showmeans=True)\n",
        "pyplot.title(\"Resultados de la evaluación del modelo Random Forest\")\n",
        "pyplot.ylabel(\"Presición\")\n",
        "pyplot.xlabel(\"Modelo\")\n",
        "pyplot.show()"
      ],
      "execution_count": 167,
      "outputs": [
        {
          "output_type": "display_data",
          "data": {
            "image/png": "[encoded data removed]",
            "text/plain": [
              "<Figure size 432x288 with 1 Axes>"
            ]
          },
          "metadata": {
            "needs_background": "light"
          }
        }
      ]
    },
    {
      "cell_type": "markdown",
      "metadata": {
        "id": "4CvcHTz8b9Xi"
      },
      "source": [
        "### Tabla comparativa\n",
        "| Modelo   |      Tecnica búsqueda      |      Tecnica evaluación      |    Presición      |\n",
        "|----------|:-------------:|----------|:-------------:|\n",
        "| Random Forest | Stratified cross validation | Repeated Stratified KFold |  0.921 | \n",
        "| Support Vector Machine | Stratified cross validation | k-Fold Cross-Validation |   0.961   |\n",
        "\n",
        "El modelo de Support Vector Machine fue superior por 4% sobre el otro modelo (Random Forest)."
      ]
    }
  ]
}