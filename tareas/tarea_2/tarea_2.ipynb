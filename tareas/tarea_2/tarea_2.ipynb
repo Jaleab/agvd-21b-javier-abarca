{
  "nbformat": 4,
  "nbformat_minor": 0,
  "metadata": {
    "colab": {
      "name": "tarea_2.ipynb",
      "provenance": []
    },
    "kernelspec": {
      "name": "python3",
      "display_name": "Python 3"
    },
    "language_info": {
      "name": "python"
    }
  },
  "cells": [
    {
      "cell_type": "markdown",
      "metadata": {
        "id": "foDposudeDJx"
      },
      "source": [
        "### Tarea 2 \n",
        "### Autor: Javier Abarca Jimenez \n",
        "### Carné: B70018\n",
        "### Dataset: [Western Australia Weather 1944 - 2016](https://www.kaggle.com/sveneschlbeck/west-australia-weather-1944-2016) "
      ]
    },
    {
      "cell_type": "markdown",
      "metadata": {
        "id": "yLMbh-lchqVF"
      },
      "source": [
        "1.Proponga un problema original de clasificación (binaria o multiclase), o un bien un problema de regresión e implemente un modelo para resolver dicho problema usando al menos dos algoritmos de aprendizaje de máquina de los estudiados en clase.\n",
        "\n",
        "\n",
        "2.Busque un data set público (libre elección) para utilizarlo en el problema planteado. Si el problema es de clasificación, su data set debe estar etiquetado. El data set no debe ser gigantesco pero sí grande dentro de lo que sea posible para su ambiente de trabajo. La riqueza de un data set no depende únicamente de su tamaño sino también de las características de los datos. Sin embargo, aara sacar mejor provecho de los algoritmos vistos a utilizar, procure conseguir un data set con no menos de 10 mil observaciones.\n",
        "\n",
        "\n",
        "3.Entre los algoritmos a utilizar, puede elegir entre DecisionTree, RandomForest, Extreme Gradient Boosting, Support Vector Machines, Extra Trees, Multilayer Perceptron, Deep Neural Network, entre otros.\n",
        "\n",
        "\n",
        "4.Como sugerencia utilice las herramientas disponibles en la biblioteca de scikit-learn, pero no se limite a ellas. Si desea utilizar otras herramientas de su preferencia lo puede hacer. Al utilizar redes neuronales, puede utilizar el ambiente theano o tensorflow mediante el wrapper de keras tal y como se hizo en la Práctica #5."
      ]
    },
    {
      "cell_type": "markdown",
      "metadata": {
        "id": "AZ9aDtYvh1y5"
      },
      "source": [
        "## 1. Problema\n",
        "Con el conjunto de datos *Western Australia Weather 1944-2016* se van a crear dos modelos para poder predecir si al día siguiente va a llover. Este problema es de clasificación binaria."
      ]
    },
    {
      "cell_type": "code",
      "metadata": {
        "id": "jRBN_G8PkPZK"
      },
      "source": [
        "import pandas as pd\n",
        "from numpy import mean\n",
        "from numpy import std\n",
        "from sklearn.datasets import make_classification\n",
        "from sklearn.model_selection import cross_val_score\n",
        "from sklearn.model_selection import RepeatedStratifiedKFold\n",
        "from sklearn.ensemble import RandomForestClassifier"
      ],
      "execution_count": null,
      "outputs": []
    },
    {
      "cell_type": "code",
      "metadata": {
        "id": "ZW9oFxo4kXbR"
      },
      "source": [
        "# Load dataset\n",
        "data = pd.read_csv('')"
      ],
      "execution_count": null,
      "outputs": []
    },
    {
      "cell_type": "markdown",
      "metadata": {
        "id": "np3IIXvQjnZ6"
      },
      "source": [
        "## 2. Exploración"
      ]
    },
    {
      "cell_type": "code",
      "metadata": {
        "colab": {
          "base_uri": "https://localhost:8080/",
          "height": 163
        },
        "id": "O1K49Pe2j9iW",
        "outputId": "3d3d43b1-2899-4b84-cc8f-fce94e5212de"
      },
      "source": [
        "data.columns"
      ],
      "execution_count": 1,
      "outputs": [
        {
          "output_type": "error",
          "ename": "NameError",
          "evalue": "ignored",
          "traceback": [
            "\u001b[0;31m---------------------------------------------------------------------------\u001b[0m",
            "\u001b[0;31mNameError\u001b[0m                                 Traceback (most recent call last)",
            "\u001b[0;32m<ipython-input-1-c3d483a1c074>\u001b[0m in \u001b[0;36m<module>\u001b[0;34m()\u001b[0m\n\u001b[0;32m----> 1\u001b[0;31m \u001b[0mdata\u001b[0m\u001b[0;34m.\u001b[0m\u001b[0mcolumns\u001b[0m\u001b[0;34m\u001b[0m\u001b[0;34m\u001b[0m\u001b[0m\n\u001b[0m",
            "\u001b[0;31mNameError\u001b[0m: name 'data' is not defined"
          ]
        }
      ]
    },
    {
      "cell_type": "markdown",
      "metadata": {
        "id": "XHaika7r9P5U"
      },
      "source": [
        ""
      ]
    },
    {
      "cell_type": "code",
      "metadata": {
        "id": "ZA7UVwH0822B"
      },
      "source": [
        ""
      ],
      "execution_count": null,
      "outputs": []
    },
    {
      "cell_type": "code",
      "metadata": {
        "id": "GBpBWIrf9PwJ"
      },
      "source": [
        ""
      ],
      "execution_count": null,
      "outputs": []
    }
  ]
}