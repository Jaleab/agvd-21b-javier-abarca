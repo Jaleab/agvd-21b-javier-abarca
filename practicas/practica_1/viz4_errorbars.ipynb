{
  "nbformat": 4,
  "nbformat_minor": 0,
  "metadata": {
    "colab": {
      "name": "viz4_errorbars.ipynb",
      "provenance": [],
      "collapsed_sections": []
    },
    "kernelspec": {
      "display_name": "Python 3",
      "language": "python",
      "name": "python3"
    },
    "language_info": {
      "codemirror_mode": {
        "name": "ipython",
        "version": 3
      },
      "file_extension": ".py",
      "mimetype": "text/x-python",
      "name": "python",
      "nbconvert_exporter": "python",
      "pygments_lexer": "ipython3",
      "version": "3.8.6"
    }
  },
  "cells": [
    {
      "cell_type": "markdown",
      "metadata": {
        "id": "ftkYRExDuqe9"
      },
      "source": [
        "# Visualizing Errors"
      ]
    },
    {
      "cell_type": "markdown",
      "metadata": {
        "id": "WWvOKi0Ouqe_"
      },
      "source": [
        "For any scientific measurement, accurate accounting for errors is nearly as important, if not more important, than accurate reporting of the number itself.\n",
        "For example, imagine that I am using some astrophysical observations to estimate the Hubble Constant, the local measurement of the expansion rate of the Universe.\n",
        "I know that the current literature suggests a value of around 71 (km/s)/Mpc, and I measure a value of 74 (km/s)/Mpc with my method. Are the values consistent? The only correct answer, given this information, is this: there is no way to know.\n",
        "\n",
        "Suppose I augment this information with reported uncertainties: the current literature suggests a value of around 71 $\\pm$ 2.5 (km/s)/Mpc, and my method has measured a value of 74 $\\pm$ 5 (km/s)/Mpc. Now are the values consistent? That is a question that can be quantitatively answered.\n",
        "\n",
        "In visualization of data and results, showing these errors effectively can make a plot convey much more complete information."
      ]
    },
    {
      "cell_type": "markdown",
      "metadata": {
        "id": "rqXEFtG6uqe_"
      },
      "source": [
        "## Basic Errorbars\n",
        "\n",
        "A basic errorbar can be created with a single Matplotlib function call:"
      ]
    },
    {
      "cell_type": "code",
      "metadata": {
        "id": "wYvcbRxkuqfA"
      },
      "source": [
        "%matplotlib inline\n",
        "import matplotlib.pyplot as plt\n",
        "plt.style.use('seaborn-whitegrid')\n",
        "import numpy as np"
      ],
      "execution_count": 1,
      "outputs": []
    },
    {
      "cell_type": "code",
      "metadata": {
        "colab": {
          "base_uri": "https://localhost:8080/",
          "height": 262
        },
        "id": "GhDY0HcjuqfF",
        "outputId": "2100f52a-d7e1-4139-be2d-e9c5e0b87d43"
      },
      "source": [
        "x = np.linspace(0, 10, 50)\n",
        "dy = 0.8\n",
        "y = np.sin(x) + dy * np.random.randn(50)\n",
        "\n",
        "plt.errorbar(x, y, yerr=dy, fmt='.k');"
      ],
      "execution_count": 4,
      "outputs": [
        {
          "output_type": "display_data",
          "data": {
            "image/png": "[encoded data removed]",
            "text/plain": [
              "<Figure size 432x288 with 1 Axes>"
            ]
          },
          "metadata": {
            "needs_background": "light"
          }
        }
      ]
    },
    {
      "cell_type": "markdown",
      "metadata": {
        "id": "izePQht-uqfK"
      },
      "source": [
        "Here the ``fmt`` is a format code controlling the appearance of lines and points, and has the same syntax as the shorthand used in ``plt.plot``.\n",
        "\n",
        "In addition to these basic options, the ``errorbar`` function has many options to fine-tune the outputs.\n",
        "Using these additional options you can easily customize the aesthetics of your errorbar plot.\n",
        "I often find it helpful, especially in crowded plots, to make the errorbars lighter than the points themselves:"
      ]
    },
    {
      "cell_type": "code",
      "metadata": {
        "colab": {
          "base_uri": "https://localhost:8080/",
          "height": 262
        },
        "id": "z3rjoYcGuqfL",
        "outputId": "051349bd-8693-455b-8c28-ed81c2dc8d00"
      },
      "source": [
        "plt.errorbar(x, y, yerr=dy, fmt='o', color='black',\n",
        "             ecolor='lightgray', elinewidth=3, capsize=0);"
      ],
      "execution_count": 5,
      "outputs": [
        {
          "output_type": "display_data",
          "data": {
            "image/png": "[encoded data removed]",
            "text/plain": [
              "<Figure size 432x288 with 1 Axes>"
            ]
          },
          "metadata": {
            "needs_background": "light"
          }
        }
      ]
    },
    {
      "cell_type": "markdown",
      "metadata": {
        "id": "M9fPyYVyuqfO"
      },
      "source": [
        "In addition to these options, you can also specify horizontal errorbars (``xerr``), one-sided errorbars, and many other variants.\n",
        "For more information on the options available, refer to the docstring of ``plt.errorbar``."
      ]
    }
  ]
}