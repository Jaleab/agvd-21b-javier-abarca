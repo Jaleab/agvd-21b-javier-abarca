{
  "nbformat": 4,
  "nbformat_minor": 0,
  "metadata": {
    "colab": {
      "name": "reporte_tutorial_2.ipynb",
      "provenance": []
    },
    "kernelspec": {
      "name": "python3",
      "display_name": "Python 3"
    },
    "language_info": {
      "name": "python"
    }
  },
  "cells": [
    {
      "cell_type": "markdown",
      "metadata": {
        "id": "TjpIjxU0l4Iw"
      },
      "source": [
        "### Reporte Practica 3 - Tutorial 2\n",
        "### Autor: Javier Abarca Jimenez \n",
        "### Carné: B70018\n",
        "\n",
        "## Conjunto de datos\n"
      ]
    },
    {
      "cell_type": "code",
      "metadata": {
        "colab": {
          "base_uri": "https://localhost:8080/"
        },
        "id": "N0bKf0eWlzD4",
        "outputId": "71791fba-7524-4637-a5d3-c3ae2977c656"
      },
      "source": [
        "# example of loading and summarizing the wine dataset\n",
        "from pandas import read_csv\n",
        "# define the location of the dataset\n",
        "url = 'https://raw.githubusercontent.com/jbrownlee/Datasets/master/wine.csv'\n",
        "# load the dataset as a data frame\n",
        "df = read_csv(url, header=None)\n",
        "# retrieve the numpy array\n",
        "data = df.values\n",
        "# split the columns into input and output variables\n",
        "X, y = data[:, :-1], data[:, -1]\n",
        "# summarize the shape of the loaded data\n",
        "print(X.shape, y.shape)"
      ],
      "execution_count": null,
      "outputs": [
        {
          "output_type": "stream",
          "name": "stdout",
          "text": [
            "(178, 13) (178,)\n"
          ]
        }
      ]
    },
    {
      "cell_type": "markdown",
      "metadata": {
        "id": "wnLQw1Lsm2YH"
      },
      "source": [
        "### Modelo de regresión líneal"
      ]
    },
    {
      "cell_type": "code",
      "metadata": {
        "colab": {
          "base_uri": "https://localhost:8080/"
        },
        "id": "e57OUxy5m0mE",
        "outputId": "9e7c1859-cce4-446a-c7bc-05b3df8094d8"
      },
      "source": [
        "# baseline model performance on the wine dataset\n",
        "from numpy import mean\n",
        "from numpy import std\n",
        "from pandas import read_csv\n",
        "from sklearn.preprocessing import LabelEncoder\n",
        "from sklearn.model_selection import RepeatedStratifiedKFold\n",
        "from sklearn.model_selection import cross_val_score\n",
        "from sklearn.linear_model import LogisticRegression\n",
        "# load the dataset\n",
        "url = 'https://raw.githubusercontent.com/jbrownlee/Datasets/master/wine.csv'\n",
        "df = read_csv(url, header=None)\n",
        "data = df.values\n",
        "X, y = data[:, :-1], data[:, -1]\n",
        "# minimally prepare dataset\n",
        "X = X.astype('float')\n",
        "y = LabelEncoder().fit_transform(y.astype('str'))\n",
        "# define the model\n",
        "model = LogisticRegression(solver='liblinear')\n",
        "# define the cross-validation procedure\n",
        "cv = RepeatedStratifiedKFold(n_splits=10, n_repeats=3, random_state=1)\n",
        "# evaluate model\n",
        "scores = cross_val_score(model, X, y, scoring='accuracy', cv=cv, n_jobs=-1)\n",
        "# report performance\n",
        "print('Accuracy: %.3f (%.3f)' % (mean(scores), std(scores)))"
      ],
      "execution_count": null,
      "outputs": [
        {
          "output_type": "stream",
          "name": "stdout",
          "text": [
            "Accuracy: 0.955 (0.049)\n"
          ]
        }
      ]
    },
    {
      "cell_type": "markdown",
      "metadata": {
        "id": "gHQ6BkTtnhl2"
      },
      "source": [
        "### Extraccion de variables"
      ]
    }
  ]
}