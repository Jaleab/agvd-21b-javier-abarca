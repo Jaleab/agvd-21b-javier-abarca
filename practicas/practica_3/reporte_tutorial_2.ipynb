{
  "nbformat": 4,
  "nbformat_minor": 2,
  "metadata": {
    "colab": {
      "name": "reporte_tutorial_2.ipynb",
      "provenance": []
    },
    "kernelspec": {
      "name": "python3",
      "display_name": "Python 3"
    },
    "language_info": {
      "name": "python"
    }
  },
  "cells": [
    {
      "cell_type": "markdown",
      "source": [
        "### Reporte Practica 3 - Tutorial 2\n",
        "### Autor: Javier Abarca Jimenez \n",
        "### Carné: B70018\n",
        "\n",
        "## Conjunto de datos\n"
      ],
      "metadata": {
        "id": "TjpIjxU0l4Iw"
      }
    },
    {
      "cell_type": "code",
      "execution_count": null,
      "source": [
        "# example of loading and summarizing the wine dataset\r\n",
        "from pandas import read_csv\r\n",
        "# define the location of the dataset\r\n",
        "url = 'https://raw.githubusercontent.com/jbrownlee/Datasets/master/wine.csv'\r\n",
        "# load the dataset as a data frame\r\n",
        "df = read_csv(url, header=None)\r\n",
        "# retrieve the numpy array\r\n",
        "data = df.values\r\n",
        "# split the columns into input and output variables\r\n",
        "X, y = data[:, :-1], data[:, -1]\r\n",
        "# summarize the shape of the loaded data\r\n",
        "print(X.shape, y.shape)"
      ],
      "outputs": [
        {
          "output_type": "stream",
          "name": "stdout",
          "text": [
            "(178, 13) (178,)\n"
          ]
        }
      ],
      "metadata": {
        "colab": {
          "base_uri": "https://localhost:8080/"
        },
        "id": "N0bKf0eWlzD4",
        "outputId": "71791fba-7524-4637-a5d3-c3ae2977c656"
      }
    },
    {
      "cell_type": "markdown",
      "source": [
        "### Modelo de regresión líneal"
      ],
      "metadata": {
        "id": "wnLQw1Lsm2YH"
      }
    },
    {
      "cell_type": "code",
      "execution_count": null,
      "source": [
        "# baseline model performance on the wine dataset\r\n",
        "from numpy import mean\r\n",
        "from numpy import std\r\n",
        "from pandas import read_csv\r\n",
        "from sklearn.preprocessing import LabelEncoder\r\n",
        "from sklearn.model_selection import RepeatedStratifiedKFold\r\n",
        "from sklearn.model_selection import cross_val_score\r\n",
        "from sklearn.linear_model import LogisticRegression\r\n",
        "# load the dataset\r\n",
        "url = 'https://raw.githubusercontent.com/jbrownlee/Datasets/master/wine.csv'\r\n",
        "df = read_csv(url, header=None)\r\n",
        "data = df.values\r\n",
        "X, y = data[:, :-1], data[:, -1]\r\n",
        "# minimally prepare dataset\r\n",
        "X = X.astype('float')\r\n",
        "y = LabelEncoder().fit_transform(y.astype('str'))\r\n",
        "# define the model\r\n",
        "model = LogisticRegression(solver='liblinear')\r\n",
        "# define the cross-validation procedure\r\n",
        "cv = RepeatedStratifiedKFold(n_splits=10, n_repeats=3, random_state=1)\r\n",
        "# evaluate model\r\n",
        "scores = cross_val_score(model, X, y, scoring='accuracy', cv=cv, n_jobs=-1)\r\n",
        "# report performance\r\n",
        "print('Accuracy: %.3f (%.3f)' % (mean(scores), std(scores)))"
      ],
      "outputs": [
        {
          "output_type": "stream",
          "name": "stdout",
          "text": [
            "Accuracy: 0.955 (0.049)\n"
          ]
        }
      ],
      "metadata": {
        "colab": {
          "base_uri": "https://localhost:8080/"
        },
        "id": "e57OUxy5m0mE",
        "outputId": "9e7c1859-cce4-446a-c7bc-05b3df8094d8"
      }
    },
    {
      "cell_type": "markdown",
      "source": [
        "### Extraccion de variables"
      ],
      "metadata": {
        "id": "gHQ6BkTtnhl2"
      }
    },
    {
      "cell_type": "markdown",
      "source": [
        "### Original"
      ],
      "metadata": {
        "id": "UcOESU1b4p5G"
      }
    },
    {
      "cell_type": "code",
      "execution_count": 1,
      "source": [
        "# data preparation as feature engineering for wine dataset\r\n",
        "from numpy import mean\r\n",
        "from numpy import std\r\n",
        "from pandas import read_csv\r\n",
        "from sklearn.model_selection import RepeatedStratifiedKFold\r\n",
        "from sklearn.model_selection import cross_val_score\r\n",
        "from sklearn.linear_model import LogisticRegression\r\n",
        "from sklearn.pipeline import Pipeline\r\n",
        "from sklearn.pipeline import FeatureUnion\r\n",
        "from sklearn.preprocessing import LabelEncoder\r\n",
        "from sklearn.preprocessing import MinMaxScaler\r\n",
        "from sklearn.preprocessing import StandardScaler\r\n",
        "from sklearn.preprocessing import RobustScaler\r\n",
        "from sklearn.preprocessing import QuantileTransformer\r\n",
        "from sklearn.preprocessing import KBinsDiscretizer\r\n",
        "from sklearn.decomposition import PCA\r\n",
        "from sklearn.decomposition import TruncatedSVD\r\n",
        "# load the dataset\r\n",
        "url = 'https://raw.githubusercontent.com/jbrownlee/Datasets/master/wine.csv'\r\n",
        "df = read_csv(url, header=None)\r\n",
        "data = df.values\r\n",
        "X, y = data[:, :-1], data[:, -1]\r\n",
        "# minimally prepare dataset\r\n",
        "X = X.astype('float')\r\n",
        "y = LabelEncoder().fit_transform(y.astype('str'))\r\n",
        "# transforms for the feature union\r\n",
        "transforms = list()\r\n",
        "transforms.append(('mms', MinMaxScaler()))\r\n",
        "transforms.append(('ss', StandardScaler()))\r\n",
        "transforms.append(('rs', RobustScaler()))\r\n",
        "transforms.append(('qt', QuantileTransformer(n_quantiles=100, output_distribution='normal')))\r\n",
        "transforms.append(('kbd', KBinsDiscretizer(n_bins=10, encode='ordinal', strategy='uniform')))\r\n",
        "transforms.append(('pca', PCA(n_components=7)))\r\n",
        "transforms.append(('svd', TruncatedSVD(n_components=7)))\r\n",
        "# create the feature union\r\n",
        "fu = FeatureUnion(transforms)\r\n",
        "# define the model\r\n",
        "model = LogisticRegression(solver='liblinear')\r\n",
        "# define the pipeline\r\n",
        "steps = list()\r\n",
        "steps.append(('fu', fu))\r\n",
        "steps.append(('m', model))\r\n",
        "pipeline = Pipeline(steps=steps)\r\n",
        "# define the cross-validation procedure\r\n",
        "cv = RepeatedStratifiedKFold(n_splits=10, n_repeats=3, random_state=1)\r\n",
        "# evaluate model\r\n",
        "scores = cross_val_score(pipeline, X, y, scoring='accuracy', cv=cv, n_jobs=-1)\r\n",
        "# report performance\r\n",
        "print('Accuracy: %.3f (%.3f)' % (mean(scores), std(scores)))"
      ],
      "outputs": [
        {
          "output_type": "stream",
          "name": "stdout",
          "text": [
            "Accuracy: 0.968 (0.037)\n"
          ]
        }
      ],
      "metadata": {
        "colab": {
          "base_uri": "https://localhost:8080/"
        },
        "id": "rAtL_5fn3fs7",
        "outputId": "ccbdc62e-95fc-4b9d-ca85-81400ddfbda2"
      }
    },
    {
      "cell_type": "markdown",
      "source": [
        "Modificado"
      ],
      "metadata": {
        "id": "ub8pn3iR4sy8"
      }
    },
    {
      "cell_type": "code",
      "execution_count": 5,
      "source": [
        "# data preparation as feature engineering for wine dataset\n",
        "from numpy import mean\n",
        "from numpy import std\n",
        "from pandas import read_csv\n",
        "from sklearn.model_selection import RepeatedStratifiedKFold\n",
        "from sklearn.model_selection import cross_val_score\n",
        "from sklearn.linear_model import LogisticRegression\n",
        "from sklearn.pipeline import Pipeline\n",
        "from sklearn.pipeline import FeatureUnion\n",
        "from sklearn.preprocessing import LabelEncoder\n",
        "from sklearn.preprocessing import MinMaxScaler\n",
        "from sklearn.preprocessing import StandardScaler\n",
        "from sklearn.preprocessing import RobustScaler\n",
        "from sklearn.preprocessing import QuantileTransformer\n",
        "from sklearn.preprocessing import KBinsDiscretizer\n",
        "from sklearn.decomposition import PCA\n",
        "from sklearn.decomposition import TruncatedSVD\n",
        "# load the dataset\n",
        "url = 'https://raw.githubusercontent.com/jbrownlee/Datasets/master/wine.csv'\n",
        "df = read_csv(url, header=None)\n",
        "data = df.values\n",
        "X, y = data[:, :-1], data[:, -1]\n",
        "# minimally prepare dataset\n",
        "X = X.astype('float')\n",
        "y = LabelEncoder().fit_transform(y.astype('str'))\n",
        "# transforms for the feature union\n",
        "transforms = list()\n",
        "transforms.append(('mms', MinMaxScaler()))\n",
        "transforms.append(('ss', StandardScaler()))\n",
        "transforms.append(('rs', RobustScaler()))\n",
        "transforms.append(('qt', QuantileTransformer(n_quantiles=300, output_distribution='normal')))\n",
        "transforms.append(('kbd', KBinsDiscretizer(n_bins=30, encode='ordinal', strategy='uniform')))\n",
        "transforms.append(('pca', PCA(n_components=7)))\n",
        "transforms.append(('svd', TruncatedSVD(n_components=7)))\n",
        "# create the feature union\n",
        "fu = FeatureUnion(transforms)\n",
        "# define the model\n",
        "model = LogisticRegression(solver='liblinear')\n",
        "# define the pipeline\n",
        "steps = list()\n",
        "steps.append(('fu', fu))\n",
        "steps.append(('m', model))\n",
        "pipeline = Pipeline(steps=steps)\n",
        "# define the cross-validation procedure\n",
        "cv = RepeatedStratifiedKFold(n_splits=10, n_repeats=3, random_state=1)\n",
        "# evaluate model\n",
        "scores = cross_val_score(pipeline, X, y, scoring='accuracy', cv=cv, n_jobs=-1)\n",
        "# report performance\n",
        "print('Accuracy: %.3f (%.3f)' % (mean(scores), std(scores)))"
      ],
      "outputs": [
        {
          "output_type": "stream",
          "name": "stdout",
          "text": [
            "Accuracy: 0.970 (0.037)\n"
          ]
        }
      ],
      "metadata": {
        "colab": {
          "base_uri": "https://localhost:8080/"
        },
        "id": "9t6V3v2y4t-F",
        "outputId": "56f5700a-9b14-4751-b74c-e84125706fe5"
      }
    },
    {
      "cell_type": "markdown",
      "source": [
        "## Recursive Feature Elimination"
      ],
      "metadata": {
        "id": "QjYYTRtp5d3g"
      }
    },
    {
      "cell_type": "markdown",
      "source": [
        "### Original"
      ],
      "metadata": {
        "id": "R50MkzQc5kPr"
      }
    },
    {
      "cell_type": "code",
      "execution_count": 6,
      "source": [
        "# data preparation as feature engineering for wine dataset\n",
        "from numpy import mean\n",
        "from numpy import std\n",
        "from pandas import read_csv\n",
        "from sklearn.model_selection import RepeatedStratifiedKFold\n",
        "from sklearn.model_selection import cross_val_score\n",
        "from sklearn.linear_model import LogisticRegression\n",
        "from sklearn.pipeline import Pipeline\n",
        "from sklearn.pipeline import FeatureUnion\n",
        "from sklearn.preprocessing import LabelEncoder\n",
        "from sklearn.preprocessing import MinMaxScaler\n",
        "from sklearn.preprocessing import StandardScaler\n",
        "from sklearn.preprocessing import RobustScaler\n",
        "from sklearn.preprocessing import QuantileTransformer\n",
        "from sklearn.preprocessing import KBinsDiscretizer\n",
        "from sklearn.decomposition import PCA\n",
        "from sklearn.decomposition import TruncatedSVD\n",
        "# load the dataset\n",
        "url = 'https://raw.githubusercontent.com/jbrownlee/Datasets/master/wine.csv'\n",
        "df = read_csv(url, header=None)\n",
        "data = df.values\n",
        "X, y = data[:, :-1], data[:, -1]\n",
        "# minimally prepare dataset\n",
        "X = X.astype('float')\n",
        "y = LabelEncoder().fit_transform(y.astype('str'))\n",
        "# transforms for the feature union\n",
        "transforms = list()\n",
        "transforms.append(('mms', MinMaxScaler()))\n",
        "transforms.append(('ss', StandardScaler()))\n",
        "transforms.append(('rs', RobustScaler()))\n",
        "transforms.append(('qt', QuantileTransformer(n_quantiles=100, output_distribution='normal')))\n",
        "transforms.append(('kbd', KBinsDiscretizer(n_bins=10, encode='ordinal', strategy='uniform')))\n",
        "transforms.append(('pca', PCA(n_components=7)))\n",
        "transforms.append(('svd', TruncatedSVD(n_components=7)))\n",
        "# create the feature union\n",
        "fu = FeatureUnion(transforms)\n",
        "# define the model\n",
        "model = LogisticRegression(solver='liblinear')\n",
        "# define the pipeline\n",
        "steps = list()\n",
        "steps.append(('fu', fu))\n",
        "steps.append(('m', model))\n",
        "pipeline = Pipeline(steps=steps)\n",
        "# define the cross-validation procedure\n",
        "cv = RepeatedStratifiedKFold(n_splits=10, n_repeats=3, random_state=1)\n",
        "# evaluate model\n",
        "scores = cross_val_score(pipeline, X, y, scoring='accuracy', cv=cv, n_jobs=-1)\n",
        "# report performance\n",
        "print('Accuracy: %.3f (%.3f)' % (mean(scores), std(scores)))"
      ],
      "outputs": [
        {
          "output_type": "stream",
          "name": "stdout",
          "text": [
            "Accuracy: 0.968 (0.037)\n"
          ]
        }
      ],
      "metadata": {
        "colab": {
          "base_uri": "https://localhost:8080/"
        },
        "id": "NzUWHy7i5ZGy",
        "outputId": "b48bbae9-42c0-4048-99ac-36e4cc5d29e6"
      }
    },
    {
      "cell_type": "markdown",
      "source": [
        "### Modificado"
      ],
      "metadata": {
        "id": "L96a77YK5g3_"
      }
    },
    {
      "cell_type": "code",
      "execution_count": 12,
      "source": [
        "# data preparation as feature engineering with feature selection for wine dataset\r\n",
        "from numpy import mean\r\n",
        "from numpy import std\r\n",
        "from pandas import read_csv\r\n",
        "from sklearn.model_selection import RepeatedStratifiedKFold\r\n",
        "from sklearn.model_selection import cross_val_score\r\n",
        "from sklearn.linear_model import LogisticRegression\r\n",
        "from sklearn.pipeline import Pipeline\r\n",
        "from sklearn.pipeline import FeatureUnion\r\n",
        "from sklearn.preprocessing import LabelEncoder\r\n",
        "from sklearn.preprocessing import MinMaxScaler\r\n",
        "from sklearn.preprocessing import StandardScaler\r\n",
        "from sklearn.preprocessing import RobustScaler\r\n",
        "from sklearn.preprocessing import QuantileTransformer\r\n",
        "from sklearn.preprocessing import KBinsDiscretizer\r\n",
        "from sklearn.feature_selection import RFE\r\n",
        "from sklearn.decomposition import PCA\r\n",
        "from sklearn.decomposition import TruncatedSVD\r\n",
        "# load the dataset\r\n",
        "url = 'https://raw.githubusercontent.com/jbrownlee/Datasets/master/wine.csv'\r\n",
        "df = read_csv(url, header=None)\r\n",
        "data = df.values\r\n",
        "X, y = data[:, :-1], data[:, -1]\r\n",
        "# minimally prepare dataset\r\n",
        "X = X.astype('float')\r\n",
        "y = LabelEncoder().fit_transform(y.astype('str'))\r\n",
        "# transforms for the feature union\r\n",
        "transforms = list()\r\n",
        "transforms.append(('mms', MinMaxScaler()))\r\n",
        "transforms.append(('ss', StandardScaler()))\r\n",
        "transforms.append(('rs', RobustScaler()))\r\n",
        "transforms.append(('qt', QuantileTransformer(n_quantiles=100, output_distribution='normal')))\r\n",
        "transforms.append(('kbd', KBinsDiscretizer(n_bins=10, encode='ordinal', strategy='uniform')))\r\n",
        "transforms.append(('pca', PCA(n_components=7)))\r\n",
        "transforms.append(('svd', TruncatedSVD(n_components=7)))\r\n",
        "# create the feature union\r\n",
        "fu = FeatureUnion(transforms)\r\n",
        "# define the feature selection\r\n",
        "rfe = RFE(estimator=LogisticRegression(solver='liblinear'), n_features_to_select=7)\r\n",
        "# define the model\r\n",
        "model = LogisticRegression(solver='liblinear')\r\n",
        "# define the pipeline\r\n",
        "steps = list()\r\n",
        "steps.append(('fu', fu))\r\n",
        "steps.append(('rfe', rfe))\r\n",
        "steps.append(('m', model))\r\n",
        "pipeline = Pipeline(steps=steps)\r\n",
        "# define the cross-validation procedure\r\n",
        "cv = RepeatedStratifiedKFold(n_splits=10, n_repeats=3, random_state=1)\r\n",
        "# evaluate model\r\n",
        "scores = cross_val_score(pipeline, X, y, scoring='accuracy', cv=cv, n_jobs=-1)\r\n",
        "# report performance\r\n",
        "print('Accuracy: %.3f (%.3f)' % (mean(scores), std(scores)))"
      ],
      "outputs": [
        {
          "output_type": "stream",
          "name": "stdout",
          "text": [
            "Accuracy: 0.976 (0.031)\n"
          ]
        }
      ],
      "metadata": {
        "colab": {
          "base_uri": "https://localhost:8080/"
        },
        "id": "QnAElZu05iUI",
        "outputId": "a3a2c4ee-6df8-48ba-b35a-f2aee5d00bc1"
      }
    },
    {
      "cell_type": "markdown",
      "source": [
        "Se logró una mejor accuracy bajando la cantidad de features de 15 a 7."
      ],
      "metadata": {
        "id": "9TyTD7596wmO"
      }
    },
    {
      "cell_type": "markdown",
      "source": [
        "## Aprendizaje\r\n",
        " \r\n",
        "Principalmente librerías en Python para modelos y transformaciones de datos."
      ],
      "metadata": {
        "id": "4IJHDBOEBH5O"
      }
    }
  ]
}