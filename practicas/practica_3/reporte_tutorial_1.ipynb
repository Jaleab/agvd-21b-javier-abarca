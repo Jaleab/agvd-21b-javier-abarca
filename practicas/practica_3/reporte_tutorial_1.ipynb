{
 "cells": [
  {
   "cell_type": "markdown",
   "source": [
    "### Reporte Practica 3 - Tutorial 1\r\n",
    "### Autor: Javier Abarca Jimenez \r\n",
    "### Carné: B70018\r\n",
    "\r\n",
    "* ## Reporte de lo aprendido\r\n",
    "    * Seleccion de variables: "
   ],
   "metadata": {}
  }
 ],
 "metadata": {
  "orig_nbformat": 4,
  "language_info": {
   "name": "python"
  }
 },
 "nbformat": 4,
 "nbformat_minor": 2
}