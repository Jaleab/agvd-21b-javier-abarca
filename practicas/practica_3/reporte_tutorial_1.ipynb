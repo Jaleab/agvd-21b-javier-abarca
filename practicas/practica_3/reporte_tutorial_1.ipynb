{
  "nbformat": 4,
  "nbformat_minor": 2,
  "metadata": {
    "colab": {
      "name": "reporte_tutorial_1.ipynb",
      "provenance": []
    },
    "kernelspec": {
      "name": "python3",
      "display_name": "Python 3"
    },
    "language_info": {
      "name": "python"
    }
  },
  "cells": [
    {
      "cell_type": "markdown",
      "source": [
        "### Reporte Practica 3 - Tutorial 1\r\n",
        "### Autor: Javier Abarca Jimenez \r\n",
        "### Carné: B70018\r\n",
        "### Tutorial: [link](https://machinelearningmastery.com/feature-selection-with-real-and-categorical-data/) \r\n",
        " \r\n",
        "* ## Reporte de lo aprendido\r\n",
        "    * Feature Selection: Su objetivo es reducir la cantidad de variables para dejar solo las variables que son las más útiles para las predicciones de interés. Estos métodos se pueden clasificar de la siguiente manera:\r\n",
        "      * Unsupervised. Los features no escogen basándose en la variable objetivo. Por ejemplo remover variables redundantes \r\n",
        "      * Supervised: Los features se eligen basándose en la variable objetivo. Algunos métodos de este tipo:\r\n",
        "        * Wrapper: Consiste en una búsqueda de subconjunto considerados como que han tenido un buen rendimiento. Un ejemplo es la eliminación de features recursiva.\r\n",
        "        * Filter: Realizan una selección dependiendo de la relación con la variable objetivo. Este método puede utilizar estadísticas o la importancia del feature.\r\n",
        "          * Estadísticas utilizadas en este método:\r\n",
        "            * Entrada numérica, salida numérica: Modelo de regresión predictiva.\r\n",
        "              * Correlacion de Pearson\r\n",
        "              * Spearman's rank.\r\n",
        "            * Entrada numérica, salida categórica: Modelo de clasificación predictiva. \r\n",
        "              * ANOVA coeficiente.\r\n",
        "              * Kendall's rank.\r\n",
        "            * Entrada categórica, salida numérica: Modelo de regresión predictiva, es poco común. Sirven los mismos métodos de entrada numérica-salida categórica, pero invertido.\r\n",
        "            * Entrada categórica, salida categórica: Modelo de clasificación predictiva. \r\n",
        "              * Prueba de Chi-cuadrado (el más común).\r\n",
        "              * Información mutua (información acerca de una variable al observar otra diferente).\r\n",
        "        * Intrinsic: Son los algoritmos que realizan una selección de manera automática. Este método utiliza árboles de decisión.\r\n",
        "      * Un posible uso de lo aprendido es el poder tomar una mejor decisión al observar el conjunto de datos y la variable objetivo, y con esto llegar a obtener más valor del conjunto de datos después de un correcto análisis."
      ],
      "metadata": {
        "id": "XJiDhgBCmKZw"
      }
    }
  ]
}