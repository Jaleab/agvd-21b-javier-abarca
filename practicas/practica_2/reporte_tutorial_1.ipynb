{
  "nbformat": 4,
  "nbformat_minor": 2,
  "metadata": {
    "colab": {
      "name": "reporte_tutorial_1.ipynb",
      "provenance": []
    },
    "kernelspec": {
      "name": "python3",
      "display_name": "Python 3"
    },
    "language_info": {
      "name": "python"
    }
  },
  "cells": [
    {
      "cell_type": "markdown",
      "source": [
        "* #  Preparación de datos\r\n",
        " \r\n",
        "  * ## Qué es \r\n",
        " \r\n",
        "    * ### Es la transformación de datos sin procesar en una forma que se adapte mejor al modelado predictivo. Esto es necesario realizarlo porque los datos pueden contener errores\r\n",
        " \r\n",
        "  * ## Frameworks \r\n",
        "    * ### Son útiles para ordenar técnicas de preparación de datos. Alguna de estas técnicas son las siguientes:\r\n",
        "        * ### A nivel de filas: Agregan o remueven filas de los conjuntos de datos para remover errores, outliers y ambigüedad del dataset.\r\n",
        "        * ### A nivel de columnas: Agregan o remueven columnas del conjunto de datos para cambiar el tipo de una de variable, para crear variables conocidas como \"dummy\" en el caso de un atributo categórico, para identificar y reemplazar valores que faltan.\r\n",
        "        * ### A nivel de valores o registros: Cambian valores de un conjunto de datos, estas por lo general se aplican sobre todos los valores de una columna. Estas son utilizadas para cambiar la escala o la distribución.\r\n",
        "        * ### A nivel de columnas y valores: Reducción de dimensión e incluso aumentar dimensión.\r\n",
        "        * ### A nivel de filas y valores: Algoritmos de clustering para reemplazar registros de filas con los valores conocidos como centroides del cluster.\r\n",
        "        \r\n",
        "  * ### Un posible uso que le daría como profesional sería para sacar el valor de datos que se están generando, para poder realizar esta tarea es necesario que estos datos hayan sido preparados correctamente.\r\n",
        " \r\n",
        "  * ### No me queda claro en qué casos se puede realizar un aumento de dimensión en los datos y cómo se aprovecharía esto."
      ],
      "metadata": {
        "id": "Zb-t1irOWjBY"
      }
    }
  ]
}