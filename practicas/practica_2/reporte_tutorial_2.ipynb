{
  "nbformat": 4,
  "nbformat_minor": 2,
  "metadata": {
    "colab": {
      "name": "reporte_tutorial_2.ipynb",
      "provenance": []
    },
    "kernelspec": {
      "name": "python3",
      "display_name": "Python 3"
    },
    "language_info": {
      "name": "python"
    }
  },
  "cells": [
    {
      "cell_type": "markdown",
      "source": [
        "## Identify Columns That Contain a Single Value\n"
      ],
      "metadata": {
        "id": "KmPVif9WQay7"
      }
    },
    {
      "cell_type": "markdown",
      "source": [
        "### NumPy unique() function"
      ],
      "metadata": {
        "id": "kUNtYeB5QlTC"
      }
    },
    {
      "cell_type": "code",
      "execution_count": 1,
      "source": [
        "# summarize the number of unique values for each column using numpy\r\n",
        "from urllib.request import urlopen\r\n",
        "from numpy import loadtxt\r\n",
        "from numpy import unique\r\n",
        "# define the location of the dataset\r\n",
        "path = 'https://raw.githubusercontent.com/jbrownlee/Datasets/master/oil-spill.csv'\r\n",
        "# load the dataset\r\n",
        "data = loadtxt(urlopen(path), delimiter=',')\r\n",
        "# summarize the number of unique values in each column\r\n",
        "for i in range(data.shape[1]):\r\n",
        "\tprint(i, len(unique(data[:, i])))"
      ],
      "outputs": [
        {
          "output_type": "stream",
          "name": "stdout",
          "text": [
            "0 238\n",
            "1 297\n",
            "2 927\n",
            "3 933\n",
            "4 179\n",
            "5 375\n",
            "6 820\n",
            "7 618\n",
            "8 561\n",
            "9 57\n",
            "10 577\n",
            "11 59\n",
            "12 73\n",
            "13 107\n",
            "14 53\n",
            "15 91\n",
            "16 893\n",
            "17 810\n",
            "18 170\n",
            "19 53\n",
            "20 68\n",
            "21 9\n",
            "22 1\n",
            "23 92\n",
            "24 9\n",
            "25 8\n",
            "26 9\n",
            "27 308\n",
            "28 447\n",
            "29 392\n",
            "30 107\n",
            "31 42\n",
            "32 4\n",
            "33 45\n",
            "34 141\n",
            "35 110\n",
            "36 3\n",
            "37 758\n",
            "38 9\n",
            "39 9\n",
            "40 388\n",
            "41 220\n",
            "42 644\n",
            "43 649\n",
            "44 499\n",
            "45 2\n",
            "46 937\n",
            "47 169\n",
            "48 286\n",
            "49 2\n"
          ]
        }
      ],
      "metadata": {
        "id": "wJA0rdcpFIT5",
        "colab": {
          "base_uri": "https://localhost:8080/"
        },
        "outputId": "6a35c28e-ed2c-4dda-8e62-3f738d2f721b"
      }
    },
    {
      "cell_type": "markdown",
      "source": [
        "### Pandas nunique() function"
      ],
      "metadata": {
        "id": "oLWW35QqQqUW"
      }
    },
    {
      "cell_type": "code",
      "execution_count": 2,
      "source": [
        "# summarize the number of unique values for each column using numpy\r\n",
        "from pandas import read_csv\r\n",
        "# define the location of the dataset\r\n",
        "path = 'https://raw.githubusercontent.com/jbrownlee/Datasets/master/oil-spill.csv'\r\n",
        "# load the dataset\r\n",
        "df = read_csv(path, header=None)\r\n",
        "# summarize the number of unique values in each column\r\n",
        "print(df.nunique())"
      ],
      "outputs": [
        {
          "output_type": "stream",
          "name": "stdout",
          "text": [
            "0     238\n",
            "1     297\n",
            "2     927\n",
            "3     933\n",
            "4     179\n",
            "5     375\n",
            "6     820\n",
            "7     618\n",
            "8     561\n",
            "9      57\n",
            "10    577\n",
            "11     59\n",
            "12     73\n",
            "13    107\n",
            "14     53\n",
            "15     91\n",
            "16    893\n",
            "17    810\n",
            "18    170\n",
            "19     53\n",
            "20     68\n",
            "21      9\n",
            "22      1\n",
            "23     92\n",
            "24      9\n",
            "25      8\n",
            "26      9\n",
            "27    308\n",
            "28    447\n",
            "29    392\n",
            "30    107\n",
            "31     42\n",
            "32      4\n",
            "33     45\n",
            "34    141\n",
            "35    110\n",
            "36      3\n",
            "37    758\n",
            "38      9\n",
            "39      9\n",
            "40    388\n",
            "41    220\n",
            "42    644\n",
            "43    649\n",
            "44    499\n",
            "45      2\n",
            "46    937\n",
            "47    169\n",
            "48    286\n",
            "49      2\n",
            "dtype: int64\n"
          ]
        }
      ],
      "metadata": {
        "colab": {
          "base_uri": "https://localhost:8080/"
        },
        "id": "KefWZh4ZP2eI",
        "outputId": "41b93baf-b40d-4a9e-d024-50646f27468c"
      }
    },
    {
      "cell_type": "markdown",
      "source": [
        "## Delete Columns That Contain a Single Value\n"
      ],
      "metadata": {
        "id": "4ocWqpUwQws3"
      }
    },
    {
      "cell_type": "markdown",
      "source": [
        "### Pandas DataFrame drop() function"
      ],
      "metadata": {
        "id": "WoYKpX_BRDA4"
      }
    },
    {
      "cell_type": "code",
      "execution_count": 3,
      "source": [
        "# delete columns with a single unique value\r\n",
        "from pandas import read_csv\r\n",
        "# define the location of the dataset\r\n",
        "path = 'https://raw.githubusercontent.com/jbrownlee/Datasets/master/oil-spill.csv'\r\n",
        "# load the dataset\r\n",
        "df = read_csv(path, header=None)\r\n",
        "print(df.shape)\r\n",
        "# get number of unique values for each column\r\n",
        "counts = df.nunique()\r\n",
        "# record columns to delete\r\n",
        "to_del = [i for i,v in enumerate(counts) if v == 1]\r\n",
        "print(to_del)\r\n",
        "# drop useless columns\r\n",
        "df.drop(to_del, axis=1, inplace=True)\r\n",
        "print(df.shape)"
      ],
      "outputs": [
        {
          "output_type": "stream",
          "name": "stdout",
          "text": [
            "(937, 50)\n",
            "[22]\n",
            "(937, 49)\n"
          ]
        }
      ],
      "metadata": {
        "colab": {
          "base_uri": "https://localhost:8080/"
        },
        "id": "KHdU9-axQySa",
        "outputId": "51ad854b-dff3-4547-db66-604e84667b94"
      }
    },
    {
      "cell_type": "markdown",
      "source": [
        "## Consider Columns That Have Very Few Values\n"
      ],
      "metadata": {
        "id": "8OjL1HGyRksg"
      }
    },
    {
      "cell_type": "markdown",
      "source": [
        "### Manually using NumPy"
      ],
      "metadata": {
        "id": "oIRIZ5j4SYQH"
      }
    },
    {
      "cell_type": "code",
      "execution_count": 4,
      "source": [
        "# summarize the percentage of unique values for each column using numpy\r\n",
        "from urllib.request import urlopen\r\n",
        "from numpy import loadtxt\r\n",
        "from numpy import unique\r\n",
        "# define the location of the dataset\r\n",
        "path = 'https://raw.githubusercontent.com/jbrownlee/Datasets/master/oil-spill.csv'\r\n",
        "# load the dataset\r\n",
        "data = loadtxt(urlopen(path), delimiter=',')\r\n",
        "# summarize the number of unique values in each column\r\n",
        "for i in range(data.shape[1]):\r\n",
        "\tnum = len(unique(data[:, i]))\r\n",
        "\tpercentage = float(num) / data.shape[0] * 100\r\n",
        "\tprint('%d, %d, %.1f%%' % (i, num, percentage))"
      ],
      "outputs": [
        {
          "output_type": "stream",
          "name": "stdout",
          "text": [
            "0, 238, 25.4%\n",
            "1, 297, 31.7%\n",
            "2, 927, 98.9%\n",
            "3, 933, 99.6%\n",
            "4, 179, 19.1%\n",
            "5, 375, 40.0%\n",
            "6, 820, 87.5%\n",
            "7, 618, 66.0%\n",
            "8, 561, 59.9%\n",
            "9, 57, 6.1%\n",
            "10, 577, 61.6%\n",
            "11, 59, 6.3%\n",
            "12, 73, 7.8%\n",
            "13, 107, 11.4%\n",
            "14, 53, 5.7%\n",
            "15, 91, 9.7%\n",
            "16, 893, 95.3%\n",
            "17, 810, 86.4%\n",
            "18, 170, 18.1%\n",
            "19, 53, 5.7%\n",
            "20, 68, 7.3%\n",
            "21, 9, 1.0%\n",
            "22, 1, 0.1%\n",
            "23, 92, 9.8%\n",
            "24, 9, 1.0%\n",
            "25, 8, 0.9%\n",
            "26, 9, 1.0%\n",
            "27, 308, 32.9%\n",
            "28, 447, 47.7%\n",
            "29, 392, 41.8%\n",
            "30, 107, 11.4%\n",
            "31, 42, 4.5%\n",
            "32, 4, 0.4%\n",
            "33, 45, 4.8%\n",
            "34, 141, 15.0%\n",
            "35, 110, 11.7%\n",
            "36, 3, 0.3%\n",
            "37, 758, 80.9%\n",
            "38, 9, 1.0%\n",
            "39, 9, 1.0%\n",
            "40, 388, 41.4%\n",
            "41, 220, 23.5%\n",
            "42, 644, 68.7%\n",
            "43, 649, 69.3%\n",
            "44, 499, 53.3%\n",
            "45, 2, 0.2%\n",
            "46, 937, 100.0%\n",
            "47, 169, 18.0%\n",
            "48, 286, 30.5%\n",
            "49, 2, 0.2%\n"
          ]
        }
      ],
      "metadata": {
        "colab": {
          "base_uri": "https://localhost:8080/"
        },
        "id": "mIDB219ARpEt",
        "outputId": "05e03447-b8d9-4e0f-f9e5-33832d326a81"
      }
    },
    {
      "cell_type": "markdown",
      "source": [
        "### Unique values (less than 1%)"
      ],
      "metadata": {
        "id": "xy1UTVaBSaGY"
      }
    },
    {
      "cell_type": "code",
      "execution_count": 5,
      "source": [
        "# summarize the percentage of unique values for each column using numpy\r\n",
        "from urllib.request import urlopen\r\n",
        "from numpy import loadtxt\r\n",
        "from numpy import unique\r\n",
        "# define the location of the dataset\r\n",
        "path = 'https://raw.githubusercontent.com/jbrownlee/Datasets/master/oil-spill.csv'\r\n",
        "# load the dataset\r\n",
        "data = loadtxt(urlopen(path), delimiter=',')\r\n",
        "# summarize the number of unique values in each column\r\n",
        "for i in range(data.shape[1]):\r\n",
        "\tnum = len(unique(data[:, i]))\r\n",
        "\tpercentage = float(num) / data.shape[0] * 100\r\n",
        "\tif percentage < 1:\r\n",
        "\t\tprint('%d, %d, %.1f%%' % (i, num, percentage))"
      ],
      "outputs": [
        {
          "output_type": "stream",
          "name": "stdout",
          "text": [
            "21, 9, 1.0%\n",
            "22, 1, 0.1%\n",
            "24, 9, 1.0%\n",
            "25, 8, 0.9%\n",
            "26, 9, 1.0%\n",
            "32, 4, 0.4%\n",
            "36, 3, 0.3%\n",
            "38, 9, 1.0%\n",
            "39, 9, 1.0%\n",
            "45, 2, 0.2%\n",
            "49, 2, 0.2%\n"
          ]
        }
      ],
      "metadata": {
        "colab": {
          "base_uri": "https://localhost:8080/"
        },
        "id": "vU0NpNm3S5JK",
        "outputId": "7e45d945-bb9b-4af0-a058-2ebf5464aff0"
      }
    },
    {
      "cell_type": "markdown",
      "source": [
        "### Delete columns with unique values less than 1 percent"
      ],
      "metadata": {
        "id": "z4Np3bhZTMwh"
      }
    },
    {
      "cell_type": "code",
      "execution_count": 6,
      "source": [
        "# delete columns where number of unique values is less than 1% of the rows\r\n",
        "from pandas import read_csv\r\n",
        "# define the location of the dataset\r\n",
        "path = 'https://raw.githubusercontent.com/jbrownlee/Datasets/master/oil-spill.csv'\r\n",
        "# load the dataset\r\n",
        "df = read_csv(path, header=None)\r\n",
        "print(df.shape)\r\n",
        "# get number of unique values for each column\r\n",
        "counts = df.nunique()\r\n",
        "# record columns to delete\r\n",
        "to_del = [i for i,v in enumerate(counts) if (float(v)/df.shape[0]*100) < 1]\r\n",
        "print(to_del)\r\n",
        "# drop useless columns\r\n",
        "df.drop(to_del, axis=1, inplace=True)\r\n",
        "print(df.shape)"
      ],
      "outputs": [
        {
          "output_type": "stream",
          "name": "stdout",
          "text": [
            "(937, 50)\n",
            "[21, 22, 24, 25, 26, 32, 36, 38, 39, 45, 49]\n",
            "(937, 39)\n"
          ]
        }
      ],
      "metadata": {
        "colab": {
          "base_uri": "https://localhost:8080/"
        },
        "id": "-5fKZxA7TUdB",
        "outputId": "2fe228c3-0d65-44e1-ae27-3918ad8d0c75"
      }
    },
    {
      "cell_type": "markdown",
      "source": [
        "## Remove Columns That Have A Low Variance\n"
      ],
      "metadata": {
        "id": "yA-8ULBoUZSI"
      }
    },
    {
      "cell_type": "markdown",
      "source": [
        "### fit_transform() function"
      ],
      "metadata": {
        "id": "N6uD9nePUiZn"
      }
    },
    {
      "cell_type": "code",
      "execution_count": 12,
      "source": [
        "# explore the effect of the variance thresholds on the number of selected features\r\n",
        "from numpy import arange\r\n",
        "from pandas import read_csv\r\n",
        "from sklearn.feature_selection import VarianceThreshold\r\n",
        "from matplotlib import pyplot\r\n",
        "# define the location of the dataset\r\n",
        "path = 'https://raw.githubusercontent.com/jbrownlee/Datasets/master/oil-spill.csv'\r\n",
        "# load the dataset\r\n",
        "df = read_csv(path, header=None)\r\n",
        "# split data into inputs and outputs\r\n",
        "data = df.values\r\n",
        "X = data[:, :-1]\r\n",
        "y = data[:, -1]\r\n",
        "print(X.shape, y.shape)\r\n",
        "# define thresholds to check\r\n",
        "thresholds = arange(0.0, 0.55, 0.05)\r\n",
        "# apply transform with each threshold\r\n",
        "results = list()\r\n",
        "for t in thresholds:\r\n",
        "\t# define the transform\r\n",
        "\ttransform = VarianceThreshold(threshold=t)\r\n",
        "\t# transform the input data\r\n",
        "\tX_sel = transform.fit_transform(X)\r\n",
        "\t# determine the number of input features\r\n",
        "\tn_features = X_sel.shape[1]\r\n",
        "\tprint('>Threshold=%.2f, Features=%d' % (t, n_features))\r\n",
        "\t# store the result\r\n",
        "\tresults.append(n_features)\r\n",
        "# plot the threshold vs the number of selected features\r\n",
        "pyplot.plot(thresholds, results)\r\n",
        "pyplot.show()"
      ],
      "outputs": [
        {
          "output_type": "stream",
          "name": "stdout",
          "text": [
            "(937, 49) (937,)\n",
            ">Threshold=0.00, Features=48\n",
            ">Threshold=0.05, Features=37\n",
            ">Threshold=0.10, Features=36\n",
            ">Threshold=0.15, Features=35\n",
            ">Threshold=0.20, Features=35\n",
            ">Threshold=0.25, Features=35\n",
            ">Threshold=0.30, Features=35\n",
            ">Threshold=0.35, Features=35\n",
            ">Threshold=0.40, Features=35\n",
            ">Threshold=0.45, Features=33\n",
            ">Threshold=0.50, Features=31\n"
          ]
        },
        {
          "output_type": "display_data",
          "data": {
            "image/png": "[encoded data removed]",
            "text/plain": [
              "<Figure size 432x288 with 1 Axes>"
            ]
          },
          "metadata": {
            "needs_background": "light"
          }
        }
      ],
      "metadata": {
        "colab": {
          "base_uri": "https://localhost:8080/",
          "height": 469
        },
        "id": "aJ0sh8t1UwVr",
        "outputId": "6f714258-286b-42ce-eb28-6fe4ac2f8f91"
      }
    },
    {
      "cell_type": "markdown",
      "source": [
        "## Identify Rows That Contain Duplicate Data\n",
        "\n",
        "Filas totalmente identicas probablemente son inutiles\n"
      ],
      "metadata": {
        "id": "o57r8xJ7V2gA"
      }
    },
    {
      "cell_type": "markdown",
      "source": [
        "### Pandas duplicated() function"
      ],
      "metadata": {
        "id": "R9ZvK2qYW2i9"
      }
    },
    {
      "cell_type": "code",
      "execution_count": 13,
      "source": [
        "# locate rows of duplicate data\r\n",
        "from pandas import read_csv\r\n",
        "# define the location of the dataset\r\n",
        "path = 'https://raw.githubusercontent.com/jbrownlee/Datasets/master/iris.csv'\r\n",
        "# load the dataset\r\n",
        "df = read_csv(path, header=None)\r\n",
        "# calculate duplicates\r\n",
        "dups = df.duplicated()\r\n",
        "# report if there are any duplicates\r\n",
        "print(dups.any())\r\n",
        "# list all duplicate rows\r\n",
        "print(df[dups])"
      ],
      "outputs": [
        {
          "output_type": "stream",
          "name": "stdout",
          "text": [
            "True\n",
            "       0    1    2    3               4\n",
            "34   4.9  3.1  1.5  0.1     Iris-setosa\n",
            "37   4.9  3.1  1.5  0.1     Iris-setosa\n",
            "142  5.8  2.7  5.1  1.9  Iris-virginica\n"
          ]
        }
      ],
      "metadata": {
        "colab": {
          "base_uri": "https://localhost:8080/"
        },
        "id": "bhzOnFbBW41u",
        "outputId": "82fc5be5-4512-4112-e3d1-b1726f2b2ed9"
      }
    },
    {
      "cell_type": "markdown",
      "source": [
        "## Delete Rows That Contain Duplicate Data\n"
      ],
      "metadata": {
        "id": "GGamHMEEXFEJ"
      }
    },
    {
      "cell_type": "markdown",
      "source": [
        "### Pandas drop_duplicates() function"
      ],
      "metadata": {
        "id": "ub7KRO3ZXL9Y"
      }
    },
    {
      "cell_type": "code",
      "execution_count": 14,
      "source": [
        "# delete rows of duplicate data from the dataset\r\n",
        "from pandas import read_csv\r\n",
        "# define the location of the dataset\r\n",
        "path = 'https://raw.githubusercontent.com/jbrownlee/Datasets/master/iris.csv'\r\n",
        "# load the dataset\r\n",
        "df = read_csv(path, header=None)\r\n",
        "print(df.shape)\r\n",
        "# delete duplicate rows\r\n",
        "df.drop_duplicates(inplace=True)\r\n",
        "print(df.shape)"
      ],
      "outputs": [
        {
          "output_type": "stream",
          "name": "stdout",
          "text": [
            "(150, 5)\n",
            "(147, 5)\n"
          ]
        }
      ],
      "metadata": {
        "colab": {
          "base_uri": "https://localhost:8080/"
        },
        "id": "Io5WPl7GXPdC",
        "outputId": "395b77eb-fca6-498b-d49c-1d766b559cf3"
      }
    },
    {
      "cell_type": "markdown",
      "source": [
        "# Aprendizaje\r\n",
        " \r\n",
        "* Funciones que facilitan bastante las tareas necesarias para preparar un conjunto de datos.\r\n",
        " \r\n",
        "* Cómo aplicar estas funciones a un conjunto de datos de interés."
      ],
      "metadata": {
        "id": "I14vOYHtXXnK"
      }
    }
  ]
}