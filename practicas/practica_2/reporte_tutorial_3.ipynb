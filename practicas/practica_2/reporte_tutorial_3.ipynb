{
  "nbformat": 4,
  "nbformat_minor": 2,
  "metadata": {
    "colab": {
      "name": "reporte_tutorial_3.ipynb",
      "provenance": []
    },
    "kernelspec": {
      "name": "python3",
      "display_name": "Python 3"
    },
    "language_info": {
      "name": "python"
    }
  },
  "cells": [
    {
      "cell_type": "markdown",
      "source": [
        "## Conjunto de datos de prueba"
      ],
      "metadata": {
        "id": "XbIX8oTthapM"
      }
    },
    {
      "cell_type": "code",
      "execution_count": null,
      "source": [
        "# generate gaussian data\r\n",
        "from numpy.random import seed\r\n",
        "from numpy.random import randn\r\n",
        "from numpy import mean\r\n",
        "from numpy import std\r\n",
        "# seed the random number generator\r\n",
        "seed(1)\r\n",
        "# generate univariate observations\r\n",
        "data = 5 * randn(10000) + 50\r\n",
        "# summarize\r\n",
        "print('mean=%.3f stdv=%.3f' % (mean(data), std(data)))"
      ],
      "outputs": [
        {
          "output_type": "stream",
          "name": "stdout",
          "text": [
            "mean=50.049 stdv=4.994\n"
          ]
        }
      ],
      "metadata": {
        "colab": {
          "base_uri": "https://localhost:8080/"
        },
        "id": "ra77z_I2a5uN",
        "outputId": "04852078-7b31-439f-e0a3-89b507b7f97b"
      }
    },
    {
      "cell_type": "markdown",
      "source": [
        "## Metodo de desviacion estandar"
      ],
      "metadata": {
        "id": "T5XyrwWBjXRK"
      }
    },
    {
      "cell_type": "code",
      "execution_count": 1,
      "source": [
        "# identify outliers with standard deviation\r\n",
        "from numpy.random import seed\r\n",
        "from numpy.random import randn\r\n",
        "from numpy import mean\r\n",
        "from numpy import std\r\n",
        "# seed the random number generator\r\n",
        "seed(1)\r\n",
        "# generate univariate observations\r\n",
        "data = 5 * randn(10000) + 50\r\n",
        "# calculate summary statistics\r\n",
        "data_mean, data_std = mean(data), std(data)\r\n",
        "# identify outliers\r\n",
        "cut_off = data_std * 3\r\n",
        "lower, upper = data_mean - cut_off, data_mean + cut_off\r\n",
        "# identify outliers\r\n",
        "outliers = [x for x in data if x < lower or x > upper]\r\n",
        "print('Identified outliers: %d' % len(outliers))\r\n",
        "# remove outliers\r\n",
        "outliers_removed = [x for x in data if x >= lower and x <= upper]\r\n",
        "print('Non-outlier observations: %d' % len(outliers_removed))"
      ],
      "outputs": [
        {
          "output_type": "stream",
          "name": "stdout",
          "text": [
            "Identified outliers: 29\n",
            "Non-outlier observations: 9971\n"
          ]
        }
      ],
      "metadata": {
        "colab": {
          "base_uri": "https://localhost:8080/"
        },
        "id": "1keXXxgKm8DU",
        "outputId": "396c1d07-64c6-48c2-bb1f-60405b4e700e"
      }
    },
    {
      "cell_type": "markdown",
      "source": [
        "## Interquartile Range Method\n"
      ],
      "metadata": {
        "id": "bODa8UdInH6z"
      }
    },
    {
      "cell_type": "code",
      "execution_count": 2,
      "source": [
        "# identify outliers with interquartile range\r\n",
        "from numpy.random import seed\r\n",
        "from numpy.random import randn\r\n",
        "from numpy import percentile\r\n",
        "# seed the random number generator\r\n",
        "seed(1)\r\n",
        "# generate univariate observations\r\n",
        "data = 5 * randn(10000) + 50\r\n",
        "# calculate interquartile range\r\n",
        "q25, q75 = percentile(data, 25), percentile(data, 75)\r\n",
        "iqr = q75 - q25\r\n",
        "print('Percentiles: 25th=%.3f, 75th=%.3f, IQR=%.3f' % (q25, q75, iqr))\r\n",
        "# calculate the outlier cutoff\r\n",
        "cut_off = iqr * 1.5\r\n",
        "lower, upper = q25 - cut_off, q75 + cut_off\r\n",
        "# identify outliers\r\n",
        "outliers = [x for x in data if x < lower or x > upper]\r\n",
        "print('Identified outliers: %d' % len(outliers))\r\n",
        "# remove outliers\r\n",
        "outliers_removed = [x for x in data if x >= lower and x <= upper]\r\n",
        "print('Non-outlier observations: %d' % len(outliers_removed))\r\n"
      ],
      "outputs": [
        {
          "output_type": "stream",
          "name": "stdout",
          "text": [
            "Percentiles: 25th=46.685, 75th=53.359, IQR=6.674\n",
            "Identified outliers: 81\n",
            "Non-outlier observations: 9919\n"
          ]
        }
      ],
      "metadata": {
        "colab": {
          "base_uri": "https://localhost:8080/"
        },
        "id": "sI47chrcoC2y",
        "outputId": "3d69c1a7-f4cd-4a6f-a708-703d4f2348fd"
      }
    },
    {
      "cell_type": "markdown",
      "source": [
        "## Automatic Outlier Detection\n"
      ],
      "metadata": {
        "id": "mh6P_MIEoS-Z"
      }
    },
    {
      "cell_type": "markdown",
      "source": [
        "### Cargar el conjunto de datos"
      ],
      "metadata": {
        "id": "Tb4R55r-ogDt"
      }
    },
    {
      "cell_type": "code",
      "execution_count": 3,
      "source": [
        "# load and summarize the dataset\r\n",
        "from pandas import read_csv\r\n",
        "from sklearn.model_selection import train_test_split\r\n",
        "# load the dataset\r\n",
        "url = 'https://raw.githubusercontent.com/jbrownlee/Datasets/master/housing.csv'\r\n",
        "df = read_csv(url, header=None)\r\n",
        "# retrieve the array\r\n",
        "data = df.values\r\n",
        "# split into inpiut and output elements\r\n",
        "X, y = data[:, :-1], data[:, -1]\r\n",
        "# summarize the shape of the dataset\r\n",
        "print(X.shape, y.shape)\r\n",
        "# split into train and test sets\r\n",
        "X_train, X_test, y_train, y_test = train_test_split(X, y, test_size=0.33, random_state=1)\r\n",
        "# summarize the shape of the train and test sets\r\n",
        "print(X_train.shape, X_test.shape, y_train.shape, y_test.shape)"
      ],
      "outputs": [
        {
          "output_type": "stream",
          "name": "stdout",
          "text": [
            "(506, 13) (506,)\n",
            "(339, 13) (167, 13) (339,) (167,)\n"
          ]
        }
      ],
      "metadata": {
        "colab": {
          "base_uri": "https://localhost:8080/"
        },
        "id": "o6fKoS9dogwN",
        "outputId": "c7e782c8-db66-40e3-c947-20e44326aa0b"
      }
    },
    {
      "cell_type": "markdown",
      "source": [
        "### Evaluación de modelo de regresión lineal\n"
      ],
      "metadata": {
        "id": "M4gy1nODok2c"
      }
    },
    {
      "cell_type": "code",
      "execution_count": 14,
      "source": [
        "# evaluate model on the raw dataset\r\n",
        "from pandas import read_csv\r\n",
        "from sklearn.model_selection import train_test_split\r\n",
        "from sklearn.linear_model import LinearRegression\r\n",
        "from sklearn.metrics import mean_absolute_error\r\n",
        "# load the dataset\r\n",
        "url = 'https://raw.githubusercontent.com/jbrownlee/Datasets/master/housing.csv'\r\n",
        "df = read_csv(url, header=None)\r\n",
        "# retrieve the array\r\n",
        "data = df.values\r\n",
        "# split into inpiut and output elements\r\n",
        "X, y = data[:, :-1], data[:, -1]\r\n",
        "# split into train and test sets\r\n",
        "X_train, X_test, y_train, y_test = train_test_split(X, y, test_size=0.33, random_state=1)\r\n",
        "# fit the model\r\n",
        "model = LinearRegression()\r\n",
        "model.fit(X_train, y_train)\r\n",
        "# evaluate the model\r\n",
        "yhat = model.predict(X_test)\r\n",
        "# evaluate predictions\r\n",
        "mae = mean_absolute_error(y_test, yhat)\r\n",
        "print('MAE: %.3f' % mae)"
      ],
      "outputs": [
        {
          "output_type": "stream",
          "name": "stdout",
          "text": [
            "MAE: 3.417\n"
          ]
        }
      ],
      "metadata": {
        "colab": {
          "base_uri": "https://localhost:8080/"
        },
        "id": "WqA7yJN_o3yD",
        "outputId": "808df083-e32f-448f-b87a-4c3d3ae1ccf8"
      }
    },
    {
      "cell_type": "markdown",
      "source": [
        "### Evaluacion sin outliers"
      ],
      "metadata": {
        "id": "4hyV7oDepJcZ"
      }
    },
    {
      "cell_type": "code",
      "execution_count": 15,
      "source": [
        "# evaluate model on training dataset with outliers removed\r\n",
        "from pandas import read_csv\r\n",
        "from sklearn.model_selection import train_test_split\r\n",
        "from sklearn.linear_model import LinearRegression\r\n",
        "from sklearn.neighbors import LocalOutlierFactor\r\n",
        "from sklearn.metrics import mean_absolute_error\r\n",
        "# load the dataset\r\n",
        "url = 'https://raw.githubusercontent.com/jbrownlee/Datasets/master/housing.csv'\r\n",
        "df = read_csv(url, header=None)\r\n",
        "# retrieve the array\r\n",
        "data = df.values\r\n",
        "# split into inpiut and output elements\r\n",
        "X, y = data[:, :-1], data[:, -1]\r\n",
        "# split into train and test sets\r\n",
        "X_train, X_test, y_train, y_test = train_test_split(X, y, test_size=0.33, random_state=1)\r\n",
        "# summarize the shape of the training dataset\r\n",
        "print(X_train.shape, y_train.shape)\r\n",
        "# identify outliers in the training dataset\r\n",
        "lof = LocalOutlierFactor()\r\n",
        "yhat = lof.fit_predict(X_train)\r\n",
        "# select all rows that are not outliers\r\n",
        "mask = yhat != -1\r\n",
        "X_train, y_train = X_train[mask, :], y_train[mask]\r\n",
        "# summarize the shape of the updated training dataset\r\n",
        "print(X_train.shape, y_train.shape)\r\n",
        "# fit the model\r\n",
        "model = LinearRegression()\r\n",
        "model.fit(X_train, y_train)\r\n",
        "# evaluate the model\r\n",
        "yhat = model.predict(X_test)\r\n",
        "# evaluate predictions\r\n",
        "mae = mean_absolute_error(y_test, yhat)\r\n",
        "print('MAE: %.3f' % mae)"
      ],
      "outputs": [
        {
          "output_type": "stream",
          "name": "stdout",
          "text": [
            "(339, 13) (339,)\n",
            "(305, 13) (305,)\n",
            "MAE: 3.356\n"
          ]
        }
      ],
      "metadata": {
        "colab": {
          "base_uri": "https://localhost:8080/"
        },
        "id": "pMSTYv5ApNUn",
        "outputId": "203b87f9-29af-42cd-ef5e-db6953c76172"
      }
    },
    {
      "cell_type": "markdown",
      "source": [
        "## Aprendizaje\r\n",
        "\r\n",
        "* Lo que se aprendió en este tutorial fueron las causas de outliers y las diferentes formas de manejar estos outliers cuando se trabaja con un conjunto de datos.\r\n",
        "* Un posible uso es poder sacarle valor a los datos. Si no se realizan estas tareas esta limpieza de outliers, se pueden obtener conclusiones erróneas"
      ],
      "metadata": {
        "id": "1L55G8iT2tcH"
      }
    }
  ]
}